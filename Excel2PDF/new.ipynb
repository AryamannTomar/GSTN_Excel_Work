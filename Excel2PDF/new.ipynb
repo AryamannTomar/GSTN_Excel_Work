{
 "cells": [
  {
   "cell_type": "code",
   "execution_count": 6,
   "metadata": {},
   "outputs": [],
   "source": [
    "import numpy as np\n",
    "from docx import Document\n",
    "from docx.shared import Pt"
   ]
  },
  {
   "cell_type": "code",
   "execution_count": 7,
   "metadata": {},
   "outputs": [],
   "source": [
    "f='GSTR1'\n",
    "fname=f'{f}.docx'\n",
    "\n",
    "doc=Document(fname)\n",
    "all_tables=[]\n",
    "for table in doc.tables:\n",
    "    rows=len(table.rows)\n",
    "    cols=len(table.columns)\n",
    "    data=np.empty((rows,cols), dtype=object)\n",
    "    for i,row in enumerate(table.rows):\n",
    "        for j,cell in enumerate(row.cells):\n",
    "            data[i,j]=cell.text.strip()\n",
    "    all_tables.append(data)"
   ]
  },
  {
   "cell_type": "code",
   "execution_count": 8,
   "metadata": {},
   "outputs": [],
   "source": [
    "def update_document(row, col, new_value, table_index):\n",
    "    if row >= len(doc.tables[table_index].rows) or col >= len(doc.tables[table_index].columns):\n",
    "        print(\"Warning: The specified cell does not exist in the table.\")\n",
    "        return    \n",
    "    all_tables[table_index][row, col] = new_value\n",
    "    cell = doc.tables[table_index].rows[row].cells[col]\n",
    "    cell.text = str(new_value)\n",
    "    for paragraph in cell.paragraphs:\n",
    "        for run in paragraph.runs:\n",
    "            run.font.name, run.font.size = 'Roboto', Pt(7.5)"
   ]
  },
  {
   "cell_type": "code",
   "execution_count": 10,
   "metadata": {},
   "outputs": [],
   "source": [
    "for table_index, array in enumerate(all_tables):\n",
    "    x=all_tables[table_index]\n",
    "\n",
    "    # s1=set()\n",
    "    for row_index, row in enumerate(x):\n",
    "        # try:\n",
    "        #     z=int(row[0][0])\n",
    "        # except:\n",
    "        #     z=-1\n",
    "        # if(z!=-1):\n",
    "        #     print(row_index)\n",
    "        for col_index, value in enumerate(row):\n",
    "                try:\n",
    "                    x1=int(value.strip())\n",
    "                except:\n",
    "                    x1=-1\n",
    "                if x1!=-1 or value=='0.00':\n",
    "                    # s1.add(row_index)\n",
    "                    # if(z!=-1):\n",
    "                    #     print(z)\n",
    "                    # print(f'{(row_index,col_index)}')\n",
    "                # print(set(x[max([num for num in l if num<row_index])]))\n",
    "                # print(x[row_index,0],'$',x[0,col_index],'$',f'{(row_index,col_index,2)}')\n",
    "                    update_document(row_index, col_index, f'{(row_index,col_index,2)}', table_index)\n",
    "# print(dict(zip(list(s1),[i for i in range(len(s1))])))"
   ]
  },
  {
   "cell_type": "code",
   "execution_count": 11,
   "metadata": {},
   "outputs": [],
   "source": [
    "doc.save(f\"{f}_Updated1.docx\")"
   ]
  },
  {
   "cell_type": "code",
   "execution_count": 78,
   "metadata": {},
   "outputs": [
    {
     "data": {
      "text/plain": [
       "23"
      ]
     },
     "execution_count": 78,
     "metadata": {},
     "output_type": "execute_result"
    }
   ],
   "source": [
    "1\n",
    "4\n",
    "7\n",
    "10\n",
    "15\n",
    "20\n",
    "23"
   ]
  },
  {
   "cell_type": "code",
   "execution_count": 80,
   "metadata": {},
   "outputs": [
    {
     "data": {
      "text/plain": [
       "array(['7 - Taxable supplies (Net of debit and credit notes) to unregistered persons (other than the supplies covered in Table 5) - B2CS (Others)',\n",
       "       '7 - Taxable supplies (Net of debit and credit notes) to unregistered persons (other than the supplies covered in Table 5) - B2CS (Others)',\n",
       "       '7 - Taxable supplies (Net of debit and credit notes) to unregistered persons (other than the supplies covered in Table 5) - B2CS (Others)',\n",
       "       '7 - Taxable supplies (Net of debit and credit notes) to unregistered persons (other than the supplies covered in Table 5) - B2CS (Others)',\n",
       "       '7 - Taxable supplies (Net of debit and credit notes) to unregistered persons (other than the supplies covered in Table 5) - B2CS (Others)',\n",
       "       '7 - Taxable supplies (Net of debit and credit notes) to unregistered persons (other than the supplies covered in Table 5) - B2CS (Others)',\n",
       "       '7 - Taxable supplies (Net of debit and credit notes) to unregistered persons (other than the supplies covered in Table 5) - B2CS (Others)',\n",
       "       '7 - Taxable supplies (Net of debit and credit notes) to unregistered persons (other than the supplies covered in Table 5) - B2CS (Others)'],\n",
       "      dtype=object)"
      ]
     },
     "execution_count": 80,
     "metadata": {},
     "output_type": "execute_result"
    }
   ],
   "source": [
    "x[23,:]"
   ]
  },
  {
   "cell_type": "code",
   "execution_count": 75,
   "metadata": {},
   "outputs": [
    {
     "name": "stdout",
     "output_type": "stream",
     "text": [
      "['Description' 'No. of records' 'Document Type' 'Value (₹)'\n",
      " 'Integrated Tax (₹)' 'Central Tax (₹)' 'State/UT Tax (₹)' 'Cess (₹)']\n",
      "['4A - Taxable outward supplies made to registered persons (other than reverse charge supplies) - B2B Regular'\n",
      " '4A - Taxable outward supplies made to registered persons (other than reverse charge supplies) - B2B Regular'\n",
      " '4A - Taxable outward supplies made to registered persons (other than reverse charge supplies) - B2B Regular'\n",
      " '4A - Taxable outward supplies made to registered persons (other than reverse charge supplies) - B2B Regular'\n",
      " '4A - Taxable outward supplies made to registered persons (other than reverse charge supplies) - B2B Regular'\n",
      " '4A - Taxable outward supplies made to registered persons (other than reverse charge supplies) - B2B Regular'\n",
      " '4A - Taxable outward supplies made to registered persons (other than reverse charge supplies) - B2B Regular'\n",
      " '4A - Taxable outward supplies made to registered persons (other than reverse charge supplies) - B2B Regular']\n",
      "['Total' '' 'Invoice' '0.00' '0.00' '0.00' '0.00' '0.00']\n",
      "['' '' '' '' '' '' '' '']\n",
      "['4B - Taxable outward supplies made to registered persons attracting tax on reverse charge - B2B Reverse charge'\n",
      " '4B - Taxable outward supplies made to registered persons attracting tax on reverse charge - B2B Reverse charge'\n",
      " '4B - Taxable outward supplies made to registered persons attracting tax on reverse charge - B2B Reverse charge'\n",
      " '4B - Taxable outward supplies made to registered persons attracting tax on reverse charge - B2B Reverse charge'\n",
      " '4B - Taxable outward supplies made to registered persons attracting tax on reverse charge - B2B Reverse charge'\n",
      " '4B - Taxable outward supplies made to registered persons attracting tax on reverse charge - B2B Reverse charge'\n",
      " '4B - Taxable outward supplies made to registered persons attracting tax on reverse charge - B2B Reverse charge'\n",
      " '4B - Taxable outward supplies made to registered persons attracting tax on reverse charge - B2B Reverse charge']\n",
      "['Total' '' 'Invoice' '0.00' '0.00' '0.00' '0.00' '0.00']\n",
      "['' '' '' '' '' '' '' '']\n",
      "['5A - Taxable outward inter-state supplies made to unregistered persons (where invoice value is more than Rs.2.5 lakh) - B2CL (Large)'\n",
      " '5A - Taxable outward inter-state supplies made to unregistered persons (where invoice value is more than Rs.2.5 lakh) - B2CL (Large)'\n",
      " '5A - Taxable outward inter-state supplies made to unregistered persons (where invoice value is more than Rs.2.5 lakh) - B2CL (Large)'\n",
      " '5A - Taxable outward inter-state supplies made to unregistered persons (where invoice value is more than Rs.2.5 lakh) - B2CL (Large)'\n",
      " '5A - Taxable outward inter-state supplies made to unregistered persons (where invoice value is more than Rs.2.5 lakh) - B2CL (Large)'\n",
      " '5A - Taxable outward inter-state supplies made to unregistered persons (where invoice value is more than Rs.2.5 lakh) - B2CL (Large)'\n",
      " '5A - Taxable outward inter-state supplies made to unregistered persons (where invoice value is more than Rs.2.5 lakh) - B2CL (Large)'\n",
      " '5A - Taxable outward inter-state supplies made to unregistered persons (where invoice value is more than Rs.2.5 lakh) - B2CL (Large)']\n",
      "['Total' '' 'Invoice' '0.00' '0.00' '' '' '0.00']\n",
      "['' '' '' '' '' '' '' '']\n",
      "['6A – Exports (with/without payment)'\n",
      " '6A – Exports (with/without payment)'\n",
      " '6A – Exports (with/without payment)'\n",
      " '6A – Exports (with/without payment)'\n",
      " '6A – Exports (with/without payment)'\n",
      " '6A – Exports (with/without payment)'\n",
      " '6A – Exports (with/without payment)'\n",
      " '6A – Exports (with/without payment)']\n",
      "['Total' '' 'Invoice' '0.00' '0.00' '' '' '0.00']\n",
      "['- EXPWP' '' 'Invoice' '0.00' '0.00' '' '' '0.00']\n",
      "['- EXPWOP' '' 'Invoice' '0.00' '' '' '' '']\n",
      "['' '' '' '' '' '' '' '']\n",
      "['6B - Supplies made to SEZ unit or SEZ developer - SEZWP/SEZWOP'\n",
      " '6B - Supplies made to SEZ unit or SEZ developer - SEZWP/SEZWOP'\n",
      " '6B - Supplies made to SEZ unit or SEZ developer - SEZWP/SEZWOP'\n",
      " '6B - Supplies made to SEZ unit or SEZ developer - SEZWP/SEZWOP'\n",
      " '6B - Supplies made to SEZ unit or SEZ developer - SEZWP/SEZWOP'\n",
      " '6B - Supplies made to SEZ unit or SEZ developer - SEZWP/SEZWOP'\n",
      " '6B - Supplies made to SEZ unit or SEZ developer - SEZWP/SEZWOP'\n",
      " '6B - Supplies made to SEZ unit or SEZ developer - SEZWP/SEZWOP']\n",
      "['Total' '' 'Invoice' '0.00' '0.00' '' '' '0.00']\n",
      "['- SEZWP' '' 'Invoice' '0.00' '0.00' '' '' '0.00']\n",
      "['- SEZWOP' '' 'Invoice' '0.00' '' '' '' '']\n",
      "['' '' '' '' '' '' '' '']\n",
      "['6C - Deemed Exports – DE' '6C - Deemed Exports – DE'\n",
      " '6C - Deemed Exports – DE' '6C - Deemed Exports – DE'\n",
      " '6C - Deemed Exports – DE' '6C - Deemed Exports – DE'\n",
      " '6C - Deemed Exports – DE' '6C - Deemed Exports – DE']\n",
      "['Total' '' 'Invoice' '0.00' '0.00' '0.00' '0.00' '0.00']\n",
      "['' '' '' '' '' '' '' '']\n",
      "['7 - Taxable supplies (Net of debit and credit notes) to unregistered persons (other than the supplies covered in Table 5) - B2CS (Others)'\n",
      " '7 - Taxable supplies (Net of debit and credit notes) to unregistered persons (other than the supplies covered in Table 5) - B2CS (Others)'\n",
      " '7 - Taxable supplies (Net of debit and credit notes) to unregistered persons (other than the supplies covered in Table 5) - B2CS (Others)'\n",
      " '7 - Taxable supplies (Net of debit and credit notes) to unregistered persons (other than the supplies covered in Table 5) - B2CS (Others)'\n",
      " '7 - Taxable supplies (Net of debit and credit notes) to unregistered persons (other than the supplies covered in Table 5) - B2CS (Others)'\n",
      " '7 - Taxable supplies (Net of debit and credit notes) to unregistered persons (other than the supplies covered in Table 5) - B2CS (Others)'\n",
      " '7 - Taxable supplies (Net of debit and credit notes) to unregistered persons (other than the supplies covered in Table 5) - B2CS (Others)'\n",
      " '7 - Taxable supplies (Net of debit and credit notes) to unregistered persons (other than the supplies covered in Table 5) - B2CS (Others)']\n"
     ]
    }
   ],
   "source": [
    "for row_index, row in enumerate(x):\n",
    "    print(row)"
   ]
  },
  {
   "cell_type": "code",
   "execution_count": null,
   "metadata": {},
   "outputs": [],
   "source": []
  }
 ],
 "metadata": {
  "kernelspec": {
   "display_name": "Python 3",
   "language": "python",
   "name": "python3"
  },
  "language_info": {
   "codemirror_mode": {
    "name": "ipython",
    "version": 3
   },
   "file_extension": ".py",
   "mimetype": "text/x-python",
   "name": "python",
   "nbconvert_exporter": "python",
   "pygments_lexer": "ipython3",
   "version": "3.12.1"
  }
 },
 "nbformat": 4,
 "nbformat_minor": 2
}
