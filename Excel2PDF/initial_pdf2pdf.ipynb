{
 "cells": [
  {
   "cell_type": "code",
   "execution_count": 1,
   "metadata": {},
   "outputs": [],
   "source": [
    "import pdfplumber\n",
    "import numpy as np\n",
    "import pandas as pd\n",
    "\n",
    "\n",
    "def extract_all_tables_from_pdf(pdf_file):\n",
    "    all_tables = []\n",
    "    with pdfplumber.open(pdf_file) as pdf:\n",
    "        for page in pdf.pages:\n",
    "            tables = page.extract_tables()\n",
    "            for table in tables:\n",
    "                # all_tables.append(pd.DataFrame(table[1:], columns=table[0]))\n",
    "                all_tables.append(np.array(table))\n",
    "    return all_tables\n",
    "\n",
    "\n",
    "pdf_file = \"GSTR3B.pdf\"\n",
    "all_tables = extract_all_tables_from_pdf(pdf_file)"
   ]
  },
  {
   "cell_type": "code",
   "execution_count": 2,
   "metadata": {},
   "outputs": [
    {
     "data": {
      "text/plain": [
       "array([['Year', ''],\n",
       "       ['Month', '']], dtype=object)"
      ]
     },
     "execution_count": 2,
     "metadata": {},
     "output_type": "execute_result"
    }
   ],
   "source": [
    "t0=all_tables[0].astype(object).copy()\n",
    "t0=np.array([t0[0][1:3], t0[1][1:3]])\n",
    "t0"
   ]
  },
  {
   "cell_type": "code",
   "execution_count": 3,
   "metadata": {},
   "outputs": [
    {
     "data": {
      "text/plain": [
       "array([['1.', '', 'GSTIN', ''],\n",
       "       ['2.', '', 'Legal name of the registered person',\n",
       "        'Auto Populated']], dtype=object)"
      ]
     },
     "execution_count": 3,
     "metadata": {},
     "output_type": "execute_result"
    }
   ],
   "source": [
    "t1=all_tables[1].copy()\n",
    "t1[1][0]='2.'\n",
    "t1=np.array([t1[0][:4],t1[1][:4]])\n",
    "t1"
   ]
  },
  {
   "cell_type": "code",
   "execution_count": 4,
   "metadata": {},
   "outputs": [
    {
     "data": {
      "text/plain": [
       "array([['Nature of Supplies', 'Total Taxable value', 'Integrated Tax',\n",
       "        'Central Tax', 'State/UT Tax', 'Cess'],\n",
       "       ['1', '2', '3', '4', '5', '6'],\n",
       "       ['(a) Outward taxable supplies (other than zero rated,\\nnil rated and exempted)',\n",
       "        '', '', '', '', ''],\n",
       "       ['(b) Outward taxable supplies (zero rated )', '', '', '', '', ''],\n",
       "       ['(c) Other outward supplies (Nil rated, exempted)', '', '', '',\n",
       "        '', ''],\n",
       "       ['(d) Inward supplies (liable to reverse charge)', '', '', '', '',\n",
       "        ''],\n",
       "       ['(e) Non-GST outward supplies', '', '', '', '', '']], dtype=object)"
      ]
     },
     "execution_count": 4,
     "metadata": {},
     "output_type": "execute_result"
    }
   ],
   "source": [
    "t2=all_tables[2].astype(object).copy()\n",
    "t2[0][1]+=' value'\n",
    "t2[0][2]+=' Tax'\n",
    "t2[0][3]+=' Tax'\n",
    "t2=np.delete(t2, [1,2], axis=0)\n",
    "t2"
   ]
  },
  {
   "cell_type": "code",
   "execution_count": 5,
   "metadata": {},
   "outputs": [
    {
     "data": {
      "text/plain": [
       "array([['', 'Place of Supply (State/UT)', 'Total Taxable value',\n",
       "        'Amount of Integrated Tax'],\n",
       "       [1, 2, 3, 4],\n",
       "       ['Supplies made to\\nUnregistered\\nPersons', '', '', ''],\n",
       "       ['Supplies made to Composition\\nTaxable Persons', '', '', ''],\n",
       "       ['Supplies made to UIN holders', '', '', '']], dtype=object)"
      ]
     },
     "execution_count": 5,
     "metadata": {},
     "output_type": "execute_result"
    }
   ],
   "source": [
    "t3=all_tables[3].astype(object).copy()\n",
    "\n",
    "res=np.concatenate((t3[0,2:5],t3[0,6:])).copy()\n",
    "res=np.vstack((res, [i for i in range(1,5)]))\n",
    "res[0][0]=''\n",
    "res[0][1]+=' (State/UT)'\n",
    "\n",
    "for i in t3[3:,0]:\n",
    "    res=np.vstack((res, [i, '', '', '']))\n",
    "t3=res\n",
    "t3"
   ]
  },
  {
   "cell_type": "code",
   "execution_count": 6,
   "metadata": {},
   "outputs": [
    {
     "data": {
      "text/plain": [
       "array([['Details', 'Integrated Tax', 'Central Tax', 'State/UT Tax',\n",
       "        'Cess'],\n",
       "       ['1', '2', '3', '4', '5'],\n",
       "       ['(A) ITC Available (whether in full or part)', '', '', '', ''],\n",
       "       ['(1) Import of goods', '', '', '', ''],\n",
       "       ['(2) Import of services', '', '', '', ''],\n",
       "       ['(3) Inward supplies liable to reverse charge (other\\nthan 1 & 2 above)',\n",
       "        '', '', '', ''],\n",
       "       ['(4) Inward supplies from ISD', '', '', '', ''],\n",
       "       ['(5) All other ITC', '', '', '', ''],\n",
       "       ['(B) ITC Reversed', '', '', '', ''],\n",
       "       ['(1) As per rules 42 & 43 of CGST Rules', '', '', '', ''],\n",
       "       ['(2) Others', '', '', '', ''],\n",
       "       ['(C) Net ITC Available (A) – (B)', '', '', '', ''],\n",
       "       ['(D) Ineligible ITC', '', '', '', ''],\n",
       "       ['(1) As per section 17(5)', '', '', '', ''],\n",
       "       ['(2) Others', '', '', '', '']], dtype=object)"
      ]
     },
     "execution_count": 6,
     "metadata": {},
     "output_type": "execute_result"
    }
   ],
   "source": [
    "t4=all_tables[4].astype(object).copy()\n",
    "t4=np.delete(t4, [1], axis=0)\n",
    "t4=t4\n",
    "t4"
   ]
  },
  {
   "cell_type": "code",
   "execution_count": 7,
   "metadata": {},
   "outputs": [
    {
     "data": {
      "text/plain": [
       "array([['Nature of supplies', 'Inter-State supplies',\n",
       "        'Intra-State supplies'],\n",
       "       ['1', '2', '3'],\n",
       "       ['From a supplier under composition scheme, Exempt and Nil rated\\nsupply',\n",
       "        '', ''],\n",
       "       ['Non GST supply', '', '']], dtype=object)"
      ]
     },
     "execution_count": 7,
     "metadata": {},
     "output_type": "execute_result"
    }
   ],
   "source": [
    "t5=all_tables[5].astype(object).copy()\n",
    "t5"
   ]
  },
  {
   "cell_type": "code",
   "execution_count": 8,
   "metadata": {},
   "outputs": [
    {
     "data": {
      "text/plain": [
       "array([['Description', 'Tax\\npayable', 'Paid through ITC', None, None,\n",
       "        None, 'Tax paid\\nTDS./TCS', 'Tax/Cess\\npaid in\\ncash',\n",
       "        'Interest', 'Late\\nFee'],\n",
       "       [None, None, 'Integrated\\nTax', 'Central\\nTax', 'State/UT\\nTax',\n",
       "        'Cess', None, None, None, None],\n",
       "       ['1', '2', '3', '4', '5', '6', '7', '8', '9', '10'],\n",
       "       ['Integrated Tax', '', '', '', '', '', '', '', '', ''],\n",
       "       ['Central Tax', '', '', '', '', '', '', '', '', ''],\n",
       "       ['State/UT Tax', '', '', '', '', '', '', '', '', ''],\n",
       "       ['Cess', '', '', '', '', '', '', '', '', '']], dtype=object)"
      ]
     },
     "execution_count": 8,
     "metadata": {},
     "output_type": "execute_result"
    }
   ],
   "source": [
    "t6=all_tables[6].astype(object).copy()\n",
    "t6"
   ]
  },
  {
   "cell_type": "code",
   "execution_count": 9,
   "metadata": {},
   "outputs": [
    {
     "data": {
      "text/plain": [
       "array([['Details', 'Integrated Tax', 'Central Tax', 'State/UT Tax'],\n",
       "       ['1', '2', '3', '4'],\n",
       "       ['TDS', '', '', ''],\n",
       "       ['TCS', '', '', '']], dtype=object)"
      ]
     },
     "execution_count": 9,
     "metadata": {},
     "output_type": "execute_result"
    }
   ],
   "source": [
    "t7=all_tables[7].astype(object).copy()\n",
    "t7"
   ]
  },
  {
   "cell_type": "code",
   "execution_count": 18,
   "metadata": {},
   "outputs": [],
   "source": [
    "l=[pd.DataFrame(i[1:], columns=i[0]) for i in [t0,t1,t2,t3,t4,t5,t6,t7]]"
   ]
  },
  {
   "cell_type": "code",
   "execution_count": 19,
   "metadata": {},
   "outputs": [
    {
     "data": {
      "text/plain": [
       "[    Year  \n",
       " 0  Month  ,\n",
       "    1.                                  GSTIN                \n",
       " 0  2.    Legal name of the registered person  Auto Populated,\n",
       "                                   Nature of Supplies Total Taxable value  \\\n",
       " 0                                                  1                   2   \n",
       " 1  (a) Outward taxable supplies (other than zero ...                       \n",
       " 2         (b) Outward taxable supplies (zero rated )                       \n",
       " 3   (c) Other outward supplies (Nil rated, exempted)                       \n",
       " 4     (d) Inward supplies (liable to reverse charge)                       \n",
       " 5                       (e) Non-GST outward supplies                       \n",
       " \n",
       "   Integrated Tax Central Tax State/UT Tax Cess  \n",
       " 0              3           4            5    6  \n",
       " 1                                               \n",
       " 2                                               \n",
       " 3                                               \n",
       " 4                                               \n",
       " 5                                               ,\n",
       "                                                  Place of Supply (State/UT)  \\\n",
       " 0                                              1                          2   \n",
       " 1        Supplies made to\\nUnregistered\\nPersons                              \n",
       " 2  Supplies made to Composition\\nTaxable Persons                              \n",
       " 3                   Supplies made to UIN holders                              \n",
       " \n",
       "   Total Taxable value Amount of Integrated Tax  \n",
       " 0                   3                        4  \n",
       " 1                                               \n",
       " 2                                               \n",
       " 3                                               ,\n",
       "                                               Details Integrated Tax  \\\n",
       " 0                                                   1              2   \n",
       " 1         (A) ITC Available (whether in full or part)                  \n",
       " 2                                 (1) Import of goods                  \n",
       " 3                              (2) Import of services                  \n",
       " 4   (3) Inward supplies liable to reverse charge (...                  \n",
       " 5                        (4) Inward supplies from ISD                  \n",
       " 6                                   (5) All other ITC                  \n",
       " 7                                    (B) ITC Reversed                  \n",
       " 8              (1) As per rules 42 & 43 of CGST Rules                  \n",
       " 9                                          (2) Others                  \n",
       " 10                    (C) Net ITC Available (A) – (B)                  \n",
       " 11                                 (D) Ineligible ITC                  \n",
       " 12                           (1) As per section 17(5)                  \n",
       " 13                                         (2) Others                  \n",
       " \n",
       "    Central Tax State/UT Tax Cess  \n",
       " 0            3            4    5  \n",
       " 1                                 \n",
       " 2                                 \n",
       " 3                                 \n",
       " 4                                 \n",
       " 5                                 \n",
       " 6                                 \n",
       " 7                                 \n",
       " 8                                 \n",
       " 9                                 \n",
       " 10                                \n",
       " 11                                \n",
       " 12                                \n",
       " 13                                ,\n",
       "                                   Nature of supplies Inter-State supplies  \\\n",
       " 0                                                  1                    2   \n",
       " 1  From a supplier under composition scheme, Exem...                        \n",
       " 2                                     Non GST supply                        \n",
       " \n",
       "   Intra-State supplies  \n",
       " 0                    3  \n",
       " 1                       \n",
       " 2                       ,\n",
       "       Description Tax\\npayable Paid through ITC          None           None  \\\n",
       " 0            None         None  Integrated\\nTax  Central\\nTax  State/UT\\nTax   \n",
       " 1               1            2                3             4              5   \n",
       " 2  Integrated Tax                                                              \n",
       " 3     Central Tax                                                              \n",
       " 4    State/UT Tax                                                              \n",
       " 5            Cess                                                              \n",
       " \n",
       "    None Tax paid\\nTDS./TCS Tax/Cess\\npaid in\\ncash Interest Late\\nFee  \n",
       " 0  Cess               None                    None     None      None  \n",
       " 1     6                  7                       8        9        10  \n",
       " 2                                                                      \n",
       " 3                                                                      \n",
       " 4                                                                      \n",
       " 5                                                                      ,\n",
       "   Details Integrated Tax Central Tax State/UT Tax\n",
       " 0       1              2           3            4\n",
       " 1     TDS                                        \n",
       " 2     TCS                                        ]"
      ]
     },
     "execution_count": 19,
     "metadata": {},
     "output_type": "execute_result"
    }
   ],
   "source": [
    "l"
   ]
  },
  {
   "cell_type": "code",
   "execution_count": 27,
   "metadata": {},
   "outputs": [],
   "source": [
    "from reportlab.lib import colors\n",
    "from reportlab.lib.pagesizes import letter\n",
    "from reportlab.platypus import SimpleDocTemplate, Table, TableStyle, Spacer\n",
    "\n",
    "def merge_tables_to_pdf(all_tables, output_pdf):\n",
    "    doc = SimpleDocTemplate(output_pdf, pagesize=letter)\n",
    "    elements = []\n",
    "    for idx, table in enumerate(all_tables):\n",
    "        data = [table.columns.tolist()] + table.values.tolist()\n",
    "        t = Table(data)\n",
    "        t.setStyle(TableStyle([('BACKGROUND', (0, 0), (-1, 0), colors.lightblue),\n",
    "                               ('TEXTCOLOR', (0, 0), (-1, 0), colors.black),\n",
    "                               ('ALIGN', (0, 0), (-1, -1), 'CENTER'),\n",
    "                               ('FONTNAME', (0, 0), (-1, 0), 'Helvetica-Bold'),\n",
    "                               ('BOTTOMPADDING', (0, 0), (-1, 0), 12),\n",
    "                               ('BACKGROUND', (0, 1), (-1, -1), colors.beige),\n",
    "                               ('GRID', (0, 0), (-1, -1), 1, colors.black)]))\n",
    "        elements.append(t)\n",
    "        # Add space between tables except for the last one\n",
    "        if idx < len(all_tables) - 1:\n",
    "            elements.append(Spacer(1, 20))  # Add 20 units of space between tables\n",
    "    doc.build(elements)\n",
    "\n",
    "output_pdf = \"merged_tables.pdf\"\n",
    "merge_tables_to_pdf(l, output_pdf)"
   ]
  },
  {
   "cell_type": "code",
   "execution_count": 31,
   "metadata": {},
   "outputs": [
    {
     "ename": "UnboundLocalError",
     "evalue": "cannot access local variable 'canvas' where it is not associated with a value",
     "output_type": "error",
     "traceback": [
      "\u001b[1;31m---------------------------------------------------------------------------\u001b[0m",
      "\u001b[1;31mUnboundLocalError\u001b[0m                         Traceback (most recent call last)",
      "Cell \u001b[1;32mIn[31], line 43\u001b[0m\n\u001b[0;32m     40\u001b[0m     doc\u001b[38;5;241m.\u001b[39mbuild(elements)\n\u001b[0;32m     42\u001b[0m output_pdf \u001b[38;5;241m=\u001b[39m \u001b[38;5;124m\"\u001b[39m\u001b[38;5;124mmerged_tables.pdf\u001b[39m\u001b[38;5;124m\"\u001b[39m\n\u001b[1;32m---> 43\u001b[0m \u001b[43mmerge_tables_to_pdf\u001b[49m\u001b[43m(\u001b[49m\u001b[43ml\u001b[49m\u001b[43m,\u001b[49m\u001b[43m \u001b[49m\u001b[43moutput_pdf\u001b[49m\u001b[43m)\u001b[49m\n",
      "Cell \u001b[1;32mIn[31], line 29\u001b[0m, in \u001b[0;36mmerge_tables_to_pdf\u001b[1;34m(all_tables, output_pdf)\u001b[0m\n\u001b[0;32m     20\u001b[0m t\u001b[38;5;241m.\u001b[39msetStyle(TableStyle([(\u001b[38;5;124m'\u001b[39m\u001b[38;5;124mBACKGROUND\u001b[39m\u001b[38;5;124m'\u001b[39m, (\u001b[38;5;241m0\u001b[39m, \u001b[38;5;241m0\u001b[39m), (\u001b[38;5;241m-\u001b[39m\u001b[38;5;241m1\u001b[39m, \u001b[38;5;241m0\u001b[39m), colors\u001b[38;5;241m.\u001b[39mlightblue),\n\u001b[0;32m     21\u001b[0m                        (\u001b[38;5;124m'\u001b[39m\u001b[38;5;124mTEXTCOLOR\u001b[39m\u001b[38;5;124m'\u001b[39m, (\u001b[38;5;241m0\u001b[39m, \u001b[38;5;241m0\u001b[39m), (\u001b[38;5;241m-\u001b[39m\u001b[38;5;241m1\u001b[39m, \u001b[38;5;241m0\u001b[39m), colors\u001b[38;5;241m.\u001b[39mblack),\n\u001b[0;32m     22\u001b[0m                        (\u001b[38;5;124m'\u001b[39m\u001b[38;5;124mALIGN\u001b[39m\u001b[38;5;124m'\u001b[39m, (\u001b[38;5;241m0\u001b[39m, \u001b[38;5;241m0\u001b[39m), (\u001b[38;5;241m-\u001b[39m\u001b[38;5;241m1\u001b[39m, \u001b[38;5;241m-\u001b[39m\u001b[38;5;241m1\u001b[39m), \u001b[38;5;124m'\u001b[39m\u001b[38;5;124mCENTER\u001b[39m\u001b[38;5;124m'\u001b[39m),\n\u001b[1;32m   (...)\u001b[0m\n\u001b[0;32m     25\u001b[0m                        (\u001b[38;5;124m'\u001b[39m\u001b[38;5;124mBACKGROUND\u001b[39m\u001b[38;5;124m'\u001b[39m, (\u001b[38;5;241m0\u001b[39m, \u001b[38;5;241m1\u001b[39m), (\u001b[38;5;241m-\u001b[39m\u001b[38;5;241m1\u001b[39m, \u001b[38;5;241m-\u001b[39m\u001b[38;5;241m1\u001b[39m), colors\u001b[38;5;241m.\u001b[39mbeige),\n\u001b[0;32m     26\u001b[0m                        (\u001b[38;5;124m'\u001b[39m\u001b[38;5;124mGRID\u001b[39m\u001b[38;5;124m'\u001b[39m, (\u001b[38;5;241m0\u001b[39m, \u001b[38;5;241m0\u001b[39m), (\u001b[38;5;241m-\u001b[39m\u001b[38;5;241m1\u001b[39m, \u001b[38;5;241m-\u001b[39m\u001b[38;5;241m1\u001b[39m), \u001b[38;5;241m1\u001b[39m, colors\u001b[38;5;241m.\u001b[39mblack)]))\n\u001b[0;32m     28\u001b[0m \u001b[38;5;66;03m# Calculate the height of the table\u001b[39;00m\n\u001b[1;32m---> 29\u001b[0m canvas \u001b[38;5;241m=\u001b[39m \u001b[43mcanvas\u001b[49m\u001b[38;5;241m.\u001b[39mCanvas(\u001b[38;5;124m\"\u001b[39m\u001b[38;5;124mtemp.pdf\u001b[39m\u001b[38;5;124m\"\u001b[39m)\n\u001b[0;32m     30\u001b[0m table_height \u001b[38;5;241m=\u001b[39m calculate_table_height(t, canvas, doc)\n\u001b[0;32m     32\u001b[0m \u001b[38;5;66;03m# Add the table to elements\u001b[39;00m\n",
      "\u001b[1;31mUnboundLocalError\u001b[0m: cannot access local variable 'canvas' where it is not associated with a value"
     ]
    }
   ],
   "source": [
    "from reportlab.lib import colors\n",
    "from reportlab.lib.pagesizes import letter\n",
    "from reportlab.platypus import SimpleDocTemplate, Table, TableStyle, Spacer, PageBreak\n",
    "from reportlab.pdfgen import canvas\n",
    "\n",
    "def calculate_table_height(table, canvas, doc):\n",
    "    \"\"\"\n",
    "    Calculate the height of the table by rendering it onto a canvas and measuring its height.\n",
    "    \"\"\"\n",
    "    table.wrap(doc.width, doc.height)\n",
    "    table.drawOn(canvas, 0, 0)\n",
    "    return table._height\n",
    "\n",
    "def merge_tables_to_pdf(all_tables, output_pdf):\n",
    "    doc = SimpleDocTemplate(output_pdf, pagesize=letter)\n",
    "    elements = []\n",
    "    for idx, table in enumerate(all_tables):\n",
    "        data = [table.columns.tolist()] + table.values.tolist()\n",
    "        t = Table(data)\n",
    "        t.setStyle(TableStyle([('BACKGROUND', (0, 0), (-1, 0), colors.lightblue),\n",
    "                               ('TEXTCOLOR', (0, 0), (-1, 0), colors.black),\n",
    "                               ('ALIGN', (0, 0), (-1, -1), 'CENTER'),\n",
    "                               ('FONTNAME', (0, 0), (-1, 0), 'Helvetica-Bold'),\n",
    "                               ('BOTTOMPADDING', (0, 0), (-1, 0), 12),\n",
    "                               ('BACKGROUND', (0, 1), (-1, -1), colors.beige),\n",
    "                               ('GRID', (0, 0), (-1, -1), 1, colors.black)]))\n",
    "        \n",
    "        # Calculate the height of the table\n",
    "        canvas = canvas.Canvas(\"temp.pdf\")\n",
    "        table_height = calculate_table_height(t, canvas, doc)\n",
    "        \n",
    "        # Add the table to elements\n",
    "        elements.append(t)\n",
    "        \n",
    "        # Check if the table spans multiple pages\n",
    "        remaining_height = doc.height - doc.bottomMargin - doc.topMargin\n",
    "        if table_height > remaining_height:\n",
    "            elements.append(PageBreak())  # Add a page break\n",
    "        \n",
    "    doc.build(elements)\n",
    "\n",
    "output_pdf = \"merged_tables.pdf\"\n",
    "merge_tables_to_pdf(l, output_pdf)\n"
   ]
  },
  {
   "cell_type": "code",
   "execution_count": null,
   "metadata": {},
   "outputs": [],
   "source": []
  }
 ],
 "metadata": {
  "kernelspec": {
   "display_name": "Python 3",
   "language": "python",
   "name": "python3"
  },
  "language_info": {
   "codemirror_mode": {
    "name": "ipython",
    "version": 3
   },
   "file_extension": ".py",
   "mimetype": "text/x-python",
   "name": "python",
   "nbconvert_exporter": "python",
   "pygments_lexer": "ipython3",
   "version": "3.12.1"
  }
 },
 "nbformat": 4,
 "nbformat_minor": 2
}
