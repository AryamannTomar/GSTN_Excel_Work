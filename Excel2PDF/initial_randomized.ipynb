{
 "cells": [
  {
   "cell_type": "code",
   "execution_count": 1,
   "metadata": {},
   "outputs": [],
   "source": [
    "import numpy as np\n",
    "from docx import Document\n",
    "from docx.shared import Pt"
   ]
  },
  {
   "cell_type": "code",
   "execution_count": 2,
   "metadata": {},
   "outputs": [],
   "source": [
    "f='GSTR1'\n",
    "fname=f'{f}.docx'\n",
    "\n",
    "doc=Document(fname)\n",
    "all_tables=[]\n",
    "for table in doc.tables:\n",
    "    rows=len(table.rows)\n",
    "    cols=len(table.columns)\n",
    "    data=np.empty((rows,cols), dtype=object)\n",
    "    for i,row in enumerate(table.rows):\n",
    "        for j,cell in enumerate(row.cells):\n",
    "            data[i,j]=cell.text.strip()\n",
    "    all_tables.append(data)"
   ]
  },
  {
   "cell_type": "code",
   "execution_count": 3,
   "metadata": {},
   "outputs": [],
   "source": [
    "pages=[]\n",
    "for i in range(len(all_tables)):\n",
    "    for j in range(len(all_tables[i])):\n",
    "        pages.append(f'Page{i}')"
   ]
  },
  {
   "cell_type": "code",
   "execution_count": 4,
   "metadata": {},
   "outputs": [],
   "source": [
    "def update_document(row, col, new_value, table_index):\n",
    "    if row >= len(doc.tables[table_index].rows) or col >= len(doc.tables[table_index].columns):\n",
    "        print(\"Warning: The specified cell does not exist in the table.\")\n",
    "        return\n",
    "    \n",
    "    all_tables[table_index][row, col] = new_value\n",
    "    cell = doc.tables[table_index].rows[row].cells[col]\n",
    "    cell.text = str(new_value)\n",
    "    for paragraph in cell.paragraphs:\n",
    "        for run in paragraph.runs:\n",
    "            run.font.name, run.font.size = 'Roboto', Pt(7.5)\n",
    "\n",
    "for table_index, array in enumerate(all_tables):\n",
    "    for row_index, row in enumerate(array):\n",
    "        for col_index, value in enumerate(row):\n",
    "                try:\n",
    "                    x1=int(value.strip())\n",
    "                except:\n",
    "                    x1=-1\n",
    "                if x1!=-1 or value=='0.00':\n",
    "                    update_document(row_index, col_index, f'{(row_index,col_index,table_index)}', table_index)"
   ]
  },
  {
   "cell_type": "code",
   "execution_count": 18,
   "metadata": {},
   "outputs": [
    {
     "name": "stdout",
     "output_type": "stream",
     "text": [
      "2 Total Value (₹)\n",
      "2 Total Integrated Tax (₹)\n",
      "2 Total Central Tax (₹)\n",
      "2 Total State/UT Tax (₹)\n",
      "2 Total Cess (₹)\n",
      "5 Total Value (₹)\n",
      "5 Total Integrated Tax (₹)\n",
      "5 Total Central Tax (₹)\n",
      "5 Total State/UT Tax (₹)\n",
      "5 Total Cess (₹)\n",
      "8 Total Value (₹)\n",
      "8 Total Integrated Tax (₹)\n",
      "8 Total Cess (₹)\n",
      "11 Total Value (₹)\n",
      "11 Total Integrated Tax (₹)\n",
      "11 Total Cess (₹)\n",
      "12 - EXPWP Value (₹)\n",
      "12 - EXPWP Integrated Tax (₹)\n",
      "12 - EXPWP Cess (₹)\n",
      "13 - EXPWOP Value (₹)\n",
      "16 Total Value (₹)\n",
      "16 Total Integrated Tax (₹)\n",
      "16 Total Cess (₹)\n",
      "17 - SEZWP Value (₹)\n",
      "17 - SEZWP Integrated Tax (₹)\n",
      "17 - SEZWP Cess (₹)\n",
      "18 - SEZWOP Value (₹)\n",
      "21 Total Value (₹)\n",
      "21 Total Integrated Tax (₹)\n",
      "21 Total Central Tax (₹)\n",
      "21 Total State/UT Tax (₹)\n",
      "21 Total Cess (₹)\n"
     ]
    }
   ],
   "source": [
    "l=[]\n",
    "for i in range(len(x)):\n",
    "    for j in range(len(x[i])):\n",
    "        try:\n",
    "            x1=int(x[i][j][0])\n",
    "        except:\n",
    "            x1=-1\n",
    "    if(x1!=-1) and x[i][j]!='0.00':\n",
    "        l.append(x[i][j])\n",
    "\n",
    "x=all_tables[2]\n",
    "s=set()\n",
    "for i in range(len(x)):\n",
    "    for j in range(len(x[i])):\n",
    "        try:\n",
    "            x1=int(x[i][j].strip())\n",
    "        except:\n",
    "            x1=-1\n",
    "        if(x1==0 or x[i][j]=='0.00'):\n",
    "            print(i, x[i,0],x[0,j])\n",
    "            s.add(i)\n",
    "            # d={}\n",
    "            # d['Description']=set(x[max([num for num in l if num<i])])\n",
    "            # d['Col']=x[0,j]\n",
    "            # d['Row']=x[i,0]\n",
    "            # d['Coordinates']=(i,j,pages[i])\n",
    "            # update_document(i,j, f'{(row_index,col_index,table_index)}', int(pages[i][-1])+1)\n",
    "            # update_document(i, j, 'XXX', int(pages[i][-1]))\n",
    "            # d['Value']=supr\n",
    "            # supr+=1\n",
    "            # t.append(d)"
   ]
  },
  {
   "cell_type": "code",
   "execution_count": null,
   "metadata": {},
   "outputs": [],
   "source": []
  },
  {
   "cell_type": "code",
   "execution_count": null,
   "metadata": {},
   "outputs": [],
   "source": []
  },
  {
   "cell_type": "code",
   "execution_count": 13,
   "metadata": {},
   "outputs": [],
   "source": [
    "x=np.array(np.concatenate(all_tables[2:]))\n",
    "# t=[]\n",
    "\n",
    "l=[]\n",
    "for i in range(len(x)):\n",
    "    for j in range(len(x[i])):\n",
    "        try:\n",
    "            x1=int(x[i][j][0])\n",
    "        except:\n",
    "            x1=-1\n",
    "    if(x1!=-1) and x[i][j]!='0.00':\n",
    "        l.append(x[i][j])\n",
    "\n",
    "# supr=0\n",
    "# for i in range(len(x)):\n",
    "#     for j in range(len(x[i])):\n",
    "#         try:\n",
    "#             x1=int(x[i][j].strip())\n",
    "#         except:\n",
    "#             x1=-1\n",
    "#         if(x1==0 or x[i][j]=='0.00'):\n",
    "#             d={}\n",
    "            # d['Description']=set(x[max([num for num in l if num<i])])\n",
    "            # d['Col']=x[0,j]\n",
    "            # d['Row']=x[i,0]\n",
    "            # d['Coordinates']=(i,j,pages[i])\n",
    "            # update_document(i,j, f'{(row_index,col_index,table_index)}', int(pages[i][-1])+1)\n",
    "            # update_document(i, j, 'XXX', int(pages[i][-1]))\n",
    "            # d['Value']=supr\n",
    "            # supr+=1\n",
    "            # t.append(d)\n",
    "\n",
    "# for i in range(len(t)-5, len(t)):\n",
    "#     del t[i]['Description']"
   ]
  },
  {
   "cell_type": "code",
   "execution_count": 14,
   "metadata": {},
   "outputs": [
    {
     "data": {
      "text/plain": [
       "['4A - Taxable outward supplies made to registered persons (other than reverse charge supplies) - B2B Regular',\n",
       " '4B - Taxable outward supplies made to registered persons attracting tax on reverse charge - B2B Reverse charge',\n",
       " '5A - Taxable outward inter-state supplies made to unregistered persons (where invoice value is more than Rs.2.5 lakh) - B2CL (Large)',\n",
       " '6A – Exports (with/without payment)',\n",
       " '6B - Supplies made to SEZ unit or SEZ developer - SEZWP/SEZWOP',\n",
       " '6C - Deemed Exports – DE',\n",
       " '7 - Taxable supplies (Net of debit and credit notes) to unregistered persons (other than the supplies covered in Table 5) - B2CS (Others)',\n",
       " '8 - Nil rated, exempted and non GST outward supplies',\n",
       " '9A - Amendment to taxable outward supplies made to registered person in returns of earlier tax periods in table 4 - B2B Regular',\n",
       " '9A - Amendment to taxable outward supplies made to registered person in returns of earlier tax periods in table 4 - B2B Reverse charge',\n",
       " '9A - Amendment to Inter-State supplies made to unregistered person (where invoice value is more than Rs.2.5 lakh) in returns of earlier tax periods in table 5 - B2CL (Large)',\n",
       " '9A - Amendment to Export supplies in returns of earlier tax periods in table 6A (EXPWP/EXPWOP)',\n",
       " '9A - Amendment to supplies made to SEZ units or SEZ developers in returns of earlier tax periods in table 6B (SEZWP/SEZWOP)',\n",
       " '9A - Amendment to Deemed Exports in returns of earlier tax periods in table 6C (DE)',\n",
       " '9B - Credit/Debit Notes (Registered) – CDNR',\n",
       " '9B - Credit/Debit Notes (Unregistered) – CDNUR',\n",
       " '9C - Amended Credit/Debit Notes (Registered) - CDNRA',\n",
       " '9C - Amended Credit/Debit Notes (Unregistered) - CDNURA',\n",
       " '10 - Amendment to taxable outward supplies made to unregistered person in returns for earlier tax periods in table 7 - B2C (Others)',\n",
       " '11A(1), 11A(2) - Advances received for which invoice has not been issued (tax amount to be added to the output tax liability) (Net of refund vouchers)',\n",
       " '11B(1), 11B(2) - Advance amount received in earlier tax period and adjusted against the supplies being shown in this tax period in Table Nos. 4, 5, 6 and 7',\n",
       " '11A - Amendment to advances received in returns for earlier tax periods in table 11A(1), 11A(2)',\n",
       " '11B - Amendment to advances adjusted in returns for earlier tax periods in table 11B(1), 11B(2)',\n",
       " '12 - HSN-wise summary of outward supplies',\n",
       " '13 - Documents issued']"
      ]
     },
     "execution_count": 14,
     "metadata": {},
     "output_type": "execute_result"
    }
   ],
   "source": [
    "l"
   ]
  },
  {
   "cell_type": "code",
   "execution_count": 5,
   "metadata": {},
   "outputs": [],
   "source": [
    "doc.save(f\"{f}_Updated.docx\")"
   ]
  },
  {
   "cell_type": "code",
   "execution_count": 25,
   "metadata": {},
   "outputs": [],
   "source": [
    "xb=[]\n",
    "for table_index, array in enumerate(all_tables):\n",
    "    for row_index, row in enumerate(array):\n",
    "        for col_index, value in enumerate(row):\n",
    "            try:\n",
    "                x1=int(value.strip())\n",
    "            except:\n",
    "                x1=-1\n",
    "            if x1!=-1 or value=='0.00':\n",
    "                # update_document(row_index, col_index, f'{(row_index,col_index,table_index)}', table_index)\n",
    "                xb.append((row_index,col_index,table_index))"
   ]
  },
  {
   "cell_type": "code",
   "execution_count": 56,
   "metadata": {},
   "outputs": [
    {
     "data": {
      "text/plain": [
       "[(2, 1, 2),\n",
       " (2, 3, 2),\n",
       " (2, 4, 2),\n",
       " (2, 5, 2),\n",
       " (2, 6, 2),\n",
       " (2, 7, 2),\n",
       " (5, 1, 2),\n",
       " (5, 3, 2),\n",
       " (5, 4, 2),\n",
       " (5, 5, 2),\n",
       " (5, 6, 2),\n",
       " (5, 7, 2),\n",
       " (8, 1, 2),\n",
       " (8, 3, 2),\n",
       " (8, 4, 2),\n",
       " (8, 7, 2),\n",
       " (11, 1, 2),\n",
       " (11, 3, 2),\n",
       " (11, 4, 2),\n",
       " (11, 7, 2),\n",
       " (12, 1, 2),\n",
       " (12, 3, 2),\n",
       " (12, 4, 2),\n",
       " (12, 7, 2),\n",
       " (13, 1, 2),\n",
       " (13, 3, 2),\n",
       " (16, 1, 2),\n",
       " (16, 3, 2),\n",
       " (16, 4, 2),\n",
       " (16, 7, 2),\n",
       " (17, 1, 2),\n",
       " (17, 3, 2),\n",
       " (17, 4, 2),\n",
       " (17, 7, 2),\n",
       " (18, 1, 2),\n",
       " (18, 3, 2),\n",
       " (21, 1, 2),\n",
       " (21, 3, 2),\n",
       " (21, 4, 2),\n",
       " (21, 5, 2),\n",
       " (21, 6, 2),\n",
       " (21, 7, 2)]"
      ]
     },
     "execution_count": 56,
     "metadata": {},
     "output_type": "execute_result"
    }
   ],
   "source": [
    "t=xb[5:]\n",
    "# t[:42]\n",
    "t[:]"
   ]
  },
  {
   "cell_type": "code",
   "execution_count": null,
   "metadata": {},
   "outputs": [],
   "source": []
  }
 ],
 "metadata": {
  "kernelspec": {
   "display_name": "Python 3",
   "language": "python",
   "name": "python3"
  },
  "language_info": {
   "codemirror_mode": {
    "name": "ipython",
    "version": 3
   },
   "file_extension": ".py",
   "mimetype": "text/x-python",
   "name": "python",
   "nbconvert_exporter": "python",
   "pygments_lexer": "ipython3",
   "version": "3.12.1"
  }
 },
 "nbformat": 4,
 "nbformat_minor": 2
}
