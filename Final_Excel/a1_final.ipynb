{
 "cells": [
  {
   "cell_type": "code",
   "execution_count": 1,
   "metadata": {},
   "outputs": [],
   "source": [
    "import os\n",
    "import time\n",
    "import pickle\n",
    "import numpy as np\n",
    "import pandas as pd\n",
    "from docx import Document\n",
    "from docx.shared import Pt\n",
    "import docx2pdf"
   ]
  },
  {
   "cell_type": "code",
   "execution_count": 2,
   "metadata": {},
   "outputs": [],
   "source": [
    "l=pd.concat([pd.read_csv('buyers.csv'),pd.read_csv('supplies.csv')], axis=0, ignore_index=True).to_dict('records')\n",
    "\n",
    "with open('final_gstr3b_params.pkl', 'rb') as f:\n",
    "    x1=pickle.load(f)\n",
    "gstr3b={i[1]:i[3] for i in x1}\n",
    "\n",
    "with open('final_gstr1_params.pkl', 'rb') as f:\n",
    "    x2=pickle.load(f)\n",
    "gstr1={i[1]:i[3] for i in x2}"
   ]
  },
  {
   "cell_type": "code",
   "execution_count": 4,
   "metadata": {},
   "outputs": [],
   "source": [
    "import tqdm as tqdm\n",
    "\n",
    "def update_document(row, col, new_value, table):\n",
    "    if row >= len(table.rows) or col >= len(table.columns):\n",
    "        print(\"Warning: The specified cell does not exist in the table.\")\n",
    "        return    \n",
    "    cell = table.rows[row].cells[col]\n",
    "    cell.text = str(new_value)\n",
    "    for paragraph in cell.paragraphs:\n",
    "        for run in paragraph.runs:\n",
    "            run.font.name, run.font.size = 'Roboto', Pt(7.5)\n",
    "\n",
    "def process_document(fname, vals, f, m):\n",
    "    doc = Document(fname)\n",
    "    all_tables = []\n",
    "    for table in doc.tables:\n",
    "        rows = len(table.rows)\n",
    "        cols = len(table.columns)\n",
    "        data = np.empty((rows, cols), dtype=object)\n",
    "        for i, row in enumerate(table.rows):\n",
    "            for j, cell in enumerate(row.cells):\n",
    "                data[i, j] = cell.text.strip()\n",
    "        all_tables.append(data)\n",
    "\n",
    "    for i, j in vals:\n",
    "        update_document(i[0], i[1], j, doc.tables[i[2]])\n",
    "\n",
    "    output_docx = f\"{f}_Updated_Vals_{m}.docx\"\n",
    "    doc.save(output_docx)\n",
    "    docx2pdf.convert(output_docx, f\"{f}_Updated_{m}.pdf\")\n",
    "    os.remove(output_docx)"
   ]
  },
  {
   "cell_type": "code",
   "execution_count": 5,
   "metadata": {},
   "outputs": [
    {
     "name": "stderr",
     "output_type": "stream",
     "text": [
      "  0%|          | 0/432 [00:00<?, ?it/s]"
     ]
    },
    {
     "data": {
      "application/vnd.jupyter.widget-view+json": {
       "model_id": "37e82068220c46b6a8d36e46a4f5d021",
       "version_major": 2,
       "version_minor": 0
      },
      "text/plain": [
       "  0%|          | 0/1 [00:00<?, ?it/s]"
      ]
     },
     "metadata": {},
     "output_type": "display_data"
    },
    {
     "data": {
      "application/vnd.jupyter.widget-view+json": {
       "model_id": "07e1f430a7d943b2be6626a0317722a0",
       "version_major": 2,
       "version_minor": 0
      },
      "text/plain": [
       "  0%|          | 0/1 [00:00<?, ?it/s]"
      ]
     },
     "metadata": {},
     "output_type": "display_data"
    },
    {
     "name": "stderr",
     "output_type": "stream",
     "text": [
      "  0%|          | 1/432 [00:28<3:25:15, 28.57s/it]\n"
     ]
    },
    {
     "ename": "KeyboardInterrupt",
     "evalue": "",
     "output_type": "error",
     "traceback": [
      "\u001b[1;31m---------------------------------------------------------------------------\u001b[0m",
      "\u001b[1;31mcom_error\u001b[0m                                 Traceback (most recent call last)",
      "File \u001b[1;32m~\\AppData\\Roaming\\Python\\Python312\\site-packages\\win32com\\client\\dynamic.py:84\u001b[0m, in \u001b[0;36m_GetGoodDispatch\u001b[1;34m(IDispatch, clsctx)\u001b[0m\n\u001b[0;32m     83\u001b[0m \u001b[38;5;28;01mtry\u001b[39;00m:\n\u001b[1;32m---> 84\u001b[0m     IDispatch \u001b[38;5;241m=\u001b[39m \u001b[43mpythoncom\u001b[49m\u001b[38;5;241;43m.\u001b[39;49m\u001b[43mconnect\u001b[49m\u001b[43m(\u001b[49m\u001b[43mIDispatch\u001b[49m\u001b[43m)\u001b[49m\n\u001b[0;32m     85\u001b[0m \u001b[38;5;28;01mexcept\u001b[39;00m pythoncom\u001b[38;5;241m.\u001b[39mole_error:\n",
      "\u001b[1;31mcom_error\u001b[0m: (-2147221021, 'Operation unavailable', None, None)",
      "\nDuring handling of the above exception, another exception occurred:\n",
      "\u001b[1;31mKeyboardInterrupt\u001b[0m                         Traceback (most recent call last)",
      "Cell \u001b[1;32mIn[5], line 13\u001b[0m\n\u001b[0;32m     11\u001b[0m     \u001b[38;5;28;01mfor\u001b[39;00m i \u001b[38;5;129;01min\u001b[39;00m \u001b[38;5;28mset\u001b[39m(gstr\u001b[38;5;241m.\u001b[39mkeys())\u001b[38;5;241m.\u001b[39mdifference(\u001b[38;5;28mset\u001b[39m(d\u001b[38;5;241m.\u001b[39mkeys())):\n\u001b[0;32m     12\u001b[0m         d[i] \u001b[38;5;241m=\u001b[39m \u001b[38;5;124m'\u001b[39m\u001b[38;5;124m?\u001b[39m\u001b[38;5;124m'\u001b[39m\n\u001b[1;32m---> 13\u001b[0m \u001b[43mprocess_document\u001b[49m\u001b[43m(\u001b[49m\u001b[38;5;124;43m'\u001b[39;49m\u001b[38;5;124;43mgstr3b.docx\u001b[39;49m\u001b[38;5;124;43m'\u001b[39;49m\u001b[43m,\u001b[49m\u001b[43m \u001b[49m\u001b[43m[\u001b[49m\u001b[43m(\u001b[49m\u001b[43mk\u001b[49m\u001b[43m,\u001b[49m\u001b[43m \u001b[49m\u001b[43mv\u001b[49m\u001b[43m)\u001b[49m\u001b[43m \u001b[49m\u001b[38;5;28;43;01mfor\u001b[39;49;00m\u001b[43m \u001b[49m\u001b[43mk\u001b[49m\u001b[43m,\u001b[49m\u001b[43m \u001b[49m\u001b[43mv\u001b[49m\u001b[43m \u001b[49m\u001b[38;5;129;43;01min\u001b[39;49;00m\u001b[43m \u001b[49m\u001b[43md_\u001b[49m\u001b[38;5;241;43m.\u001b[39;49m\u001b[43mitems\u001b[49m\u001b[43m(\u001b[49m\u001b[43m)\u001b[49m\u001b[43m]\u001b[49m\u001b[43m,\u001b[49m\u001b[43m \u001b[49m\u001b[38;5;124;43m'\u001b[39;49m\u001b[38;5;124;43mgstr3b\u001b[39;49m\u001b[38;5;124;43m'\u001b[39;49m\u001b[43m,\u001b[49m\u001b[43m \u001b[49m\u001b[43mm\u001b[49m\u001b[43m)\u001b[49m\n\u001b[0;32m     14\u001b[0m process_document(\u001b[38;5;124m'\u001b[39m\u001b[38;5;124mgstr1.docx\u001b[39m\u001b[38;5;124m'\u001b[39m, [(k, v) \u001b[38;5;28;01mfor\u001b[39;00m k, v \u001b[38;5;129;01min\u001b[39;00m d1_\u001b[38;5;241m.\u001b[39mitems()], \u001b[38;5;124m'\u001b[39m\u001b[38;5;124mgstr1\u001b[39m\u001b[38;5;124m'\u001b[39m, m)\n\u001b[0;32m     16\u001b[0m \u001b[38;5;66;03m# if m%10==0:\u001b[39;00m\n\u001b[0;32m     17\u001b[0m \u001b[38;5;66;03m#     print(f'Completed Batch {m}')\u001b[39;00m\n\u001b[0;32m     18\u001b[0m \u001b[38;5;66;03m# print(f\"Time elapsed after iteration {m+1}: {time.time()-start_time}\")\u001b[39;00m\n\u001b[0;32m     19\u001b[0m \u001b[38;5;66;03m# start_time=time.time()\u001b[39;00m\n",
      "Cell \u001b[1;32mIn[4], line 30\u001b[0m, in \u001b[0;36mprocess_document\u001b[1;34m(fname, vals, f, m)\u001b[0m\n\u001b[0;32m     28\u001b[0m output_docx \u001b[38;5;241m=\u001b[39m \u001b[38;5;124mf\u001b[39m\u001b[38;5;124m\"\u001b[39m\u001b[38;5;132;01m{\u001b[39;00mf\u001b[38;5;132;01m}\u001b[39;00m\u001b[38;5;124m_Updated_Vals_\u001b[39m\u001b[38;5;132;01m{\u001b[39;00mm\u001b[38;5;132;01m}\u001b[39;00m\u001b[38;5;124m.docx\u001b[39m\u001b[38;5;124m\"\u001b[39m\n\u001b[0;32m     29\u001b[0m doc\u001b[38;5;241m.\u001b[39msave(output_docx)\n\u001b[1;32m---> 30\u001b[0m \u001b[43mdocx2pdf\u001b[49m\u001b[38;5;241;43m.\u001b[39;49m\u001b[43mconvert\u001b[49m\u001b[43m(\u001b[49m\u001b[43moutput_docx\u001b[49m\u001b[43m,\u001b[49m\u001b[43m \u001b[49m\u001b[38;5;124;43mf\u001b[39;49m\u001b[38;5;124;43m\"\u001b[39;49m\u001b[38;5;132;43;01m{\u001b[39;49;00m\u001b[43mf\u001b[49m\u001b[38;5;132;43;01m}\u001b[39;49;00m\u001b[38;5;124;43m_Updated_\u001b[39;49m\u001b[38;5;132;43;01m{\u001b[39;49;00m\u001b[43mm\u001b[49m\u001b[38;5;132;43;01m}\u001b[39;49;00m\u001b[38;5;124;43m.pdf\u001b[39;49m\u001b[38;5;124;43m\"\u001b[39;49m\u001b[43m)\u001b[49m\n\u001b[0;32m     31\u001b[0m os\u001b[38;5;241m.\u001b[39mremove(output_docx)\n",
      "File \u001b[1;32mc:\\Users\\aryaman.tomar\\AppData\\Local\\Programs\\Python\\Python312\\Lib\\site-packages\\docx2pdf\\__init__.py:106\u001b[0m, in \u001b[0;36mconvert\u001b[1;34m(input_path, output_path, keep_active)\u001b[0m\n\u001b[0;32m    104\u001b[0m     \u001b[38;5;28;01mreturn\u001b[39;00m macos(paths, keep_active)\n\u001b[0;32m    105\u001b[0m \u001b[38;5;28;01melif\u001b[39;00m sys\u001b[38;5;241m.\u001b[39mplatform \u001b[38;5;241m==\u001b[39m \u001b[38;5;124m\"\u001b[39m\u001b[38;5;124mwin32\u001b[39m\u001b[38;5;124m\"\u001b[39m:\n\u001b[1;32m--> 106\u001b[0m     \u001b[38;5;28;01mreturn\u001b[39;00m \u001b[43mwindows\u001b[49m\u001b[43m(\u001b[49m\u001b[43mpaths\u001b[49m\u001b[43m,\u001b[49m\u001b[43m \u001b[49m\u001b[43mkeep_active\u001b[49m\u001b[43m)\u001b[49m\n\u001b[0;32m    107\u001b[0m \u001b[38;5;28;01melse\u001b[39;00m:\n\u001b[0;32m    108\u001b[0m     \u001b[38;5;28;01mraise\u001b[39;00m \u001b[38;5;167;01mNotImplementedError\u001b[39;00m(\n\u001b[0;32m    109\u001b[0m         \u001b[38;5;124m\"\u001b[39m\u001b[38;5;124mdocx2pdf is not implemented for linux as it requires Microsoft Word to be installed\u001b[39m\u001b[38;5;124m\"\u001b[39m\n\u001b[0;32m    110\u001b[0m     )\n",
      "File \u001b[1;32mc:\\Users\\aryaman.tomar\\AppData\\Local\\Programs\\Python\\Python312\\Lib\\site-packages\\docx2pdf\\__init__.py:19\u001b[0m, in \u001b[0;36mwindows\u001b[1;34m(paths, keep_active)\u001b[0m\n\u001b[0;32m     16\u001b[0m \u001b[38;5;28;01mdef\u001b[39;00m \u001b[38;5;21mwindows\u001b[39m(paths, keep_active):\n\u001b[0;32m     17\u001b[0m     \u001b[38;5;28;01mimport\u001b[39;00m \u001b[38;5;21;01mwin32com\u001b[39;00m\u001b[38;5;21;01m.\u001b[39;00m\u001b[38;5;21;01mclient\u001b[39;00m\n\u001b[1;32m---> 19\u001b[0m     word \u001b[38;5;241m=\u001b[39m \u001b[43mwin32com\u001b[49m\u001b[38;5;241;43m.\u001b[39;49m\u001b[43mclient\u001b[49m\u001b[38;5;241;43m.\u001b[39;49m\u001b[43mDispatch\u001b[49m\u001b[43m(\u001b[49m\u001b[38;5;124;43m\"\u001b[39;49m\u001b[38;5;124;43mWord.Application\u001b[39;49m\u001b[38;5;124;43m\"\u001b[39;49m\u001b[43m)\u001b[49m\n\u001b[0;32m     20\u001b[0m     wdFormatPDF \u001b[38;5;241m=\u001b[39m \u001b[38;5;241m17\u001b[39m\n\u001b[0;32m     22\u001b[0m     \u001b[38;5;28;01mif\u001b[39;00m paths[\u001b[38;5;124m\"\u001b[39m\u001b[38;5;124mbatch\u001b[39m\u001b[38;5;124m\"\u001b[39m]:\n",
      "File \u001b[1;32m~\\AppData\\Roaming\\Python\\Python312\\site-packages\\win32com\\client\\__init__.py:118\u001b[0m, in \u001b[0;36mDispatch\u001b[1;34m(dispatch, userName, resultCLSID, typeinfo, UnicodeToString, clsctx)\u001b[0m\n\u001b[0;32m    116\u001b[0m \u001b[38;5;250m\u001b[39m\u001b[38;5;124;03m\"\"\"Creates a Dispatch based COM object.\"\"\"\u001b[39;00m\n\u001b[0;32m    117\u001b[0m \u001b[38;5;28;01massert\u001b[39;00m UnicodeToString \u001b[38;5;129;01mis\u001b[39;00m \u001b[38;5;28;01mNone\u001b[39;00m, \u001b[38;5;124m\"\u001b[39m\u001b[38;5;124mthis is deprecated and will go away\u001b[39m\u001b[38;5;124m\"\u001b[39m\n\u001b[1;32m--> 118\u001b[0m dispatch, userName \u001b[38;5;241m=\u001b[39m \u001b[43mdynamic\u001b[49m\u001b[38;5;241;43m.\u001b[39;49m\u001b[43m_GetGoodDispatchAndUserName\u001b[49m\u001b[43m(\u001b[49m\u001b[43mdispatch\u001b[49m\u001b[43m,\u001b[49m\u001b[43m \u001b[49m\u001b[43muserName\u001b[49m\u001b[43m,\u001b[49m\u001b[43m \u001b[49m\u001b[43mclsctx\u001b[49m\u001b[43m)\u001b[49m\n\u001b[0;32m    119\u001b[0m \u001b[38;5;28;01mreturn\u001b[39;00m __WrapDispatch(dispatch, userName, resultCLSID, typeinfo, clsctx\u001b[38;5;241m=\u001b[39mclsctx)\n",
      "File \u001b[1;32m~\\AppData\\Roaming\\Python\\Python312\\site-packages\\win32com\\client\\dynamic.py:104\u001b[0m, in \u001b[0;36m_GetGoodDispatchAndUserName\u001b[1;34m(IDispatch, userName, clsctx)\u001b[0m\n\u001b[0;32m    101\u001b[0m     \u001b[38;5;66;03m## ??? else userName remains None ???\u001b[39;00m\n\u001b[0;32m    102\u001b[0m \u001b[38;5;28;01melse\u001b[39;00m:\n\u001b[0;32m    103\u001b[0m     userName \u001b[38;5;241m=\u001b[39m \u001b[38;5;28mstr\u001b[39m(userName)\n\u001b[1;32m--> 104\u001b[0m \u001b[38;5;28;01mreturn\u001b[39;00m (\u001b[43m_GetGoodDispatch\u001b[49m\u001b[43m(\u001b[49m\u001b[43mIDispatch\u001b[49m\u001b[43m,\u001b[49m\u001b[43m \u001b[49m\u001b[43mclsctx\u001b[49m\u001b[43m)\u001b[49m, userName)\n",
      "File \u001b[1;32m~\\AppData\\Roaming\\Python\\Python312\\site-packages\\win32com\\client\\dynamic.py:86\u001b[0m, in \u001b[0;36m_GetGoodDispatch\u001b[1;34m(IDispatch, clsctx)\u001b[0m\n\u001b[0;32m     84\u001b[0m         IDispatch \u001b[38;5;241m=\u001b[39m pythoncom\u001b[38;5;241m.\u001b[39mconnect(IDispatch)\n\u001b[0;32m     85\u001b[0m     \u001b[38;5;28;01mexcept\u001b[39;00m pythoncom\u001b[38;5;241m.\u001b[39mole_error:\n\u001b[1;32m---> 86\u001b[0m         IDispatch \u001b[38;5;241m=\u001b[39m \u001b[43mpythoncom\u001b[49m\u001b[38;5;241;43m.\u001b[39;49m\u001b[43mCoCreateInstance\u001b[49m\u001b[43m(\u001b[49m\n\u001b[0;32m     87\u001b[0m \u001b[43m            \u001b[49m\u001b[43mIDispatch\u001b[49m\u001b[43m,\u001b[49m\u001b[43m \u001b[49m\u001b[38;5;28;43;01mNone\u001b[39;49;00m\u001b[43m,\u001b[49m\u001b[43m \u001b[49m\u001b[43mclsctx\u001b[49m\u001b[43m,\u001b[49m\u001b[43m \u001b[49m\u001b[43mpythoncom\u001b[49m\u001b[38;5;241;43m.\u001b[39;49m\u001b[43mIID_IDispatch\u001b[49m\n\u001b[0;32m     88\u001b[0m \u001b[43m        \u001b[49m\u001b[43m)\u001b[49m\n\u001b[0;32m     89\u001b[0m \u001b[38;5;28;01melse\u001b[39;00m:\n\u001b[0;32m     90\u001b[0m     \u001b[38;5;66;03m# may already be a wrapped class.\u001b[39;00m\n\u001b[0;32m     91\u001b[0m     IDispatch \u001b[38;5;241m=\u001b[39m \u001b[38;5;28mgetattr\u001b[39m(IDispatch, \u001b[38;5;124m\"\u001b[39m\u001b[38;5;124m_oleobj_\u001b[39m\u001b[38;5;124m\"\u001b[39m, IDispatch)\n",
      "\u001b[1;31mKeyboardInterrupt\u001b[0m: "
     ]
    }
   ],
   "source": [
    "start_time=time.time()\n",
    "for m in tqdm.tqdm(range(len(l))):\n",
    "    x=l[m]\n",
    "    d_={}\n",
    "    d1_={}\n",
    "    for gstr, d in [(gstr3b, d_), (gstr1, d1_)]:\n",
    "        for i in x.keys():\n",
    "            l_ = [k for k, val in gstr.items() if val == i]\n",
    "            if len(l_) != 0:\n",
    "                d.update(dict(zip(l_, tuple([x[i]]) * len(l_))))\n",
    "        for i in set(gstr.keys()).difference(set(d.keys())):\n",
    "            d[i] = '?'\n",
    "    process_document('gstr3b.docx', [(k, v) for k, v in d_.items()], 'gstr3b', m)\n",
    "    process_document('gstr1.docx', [(k, v) for k, v in d1_.items()], 'gstr1', m)\n",
    "    \n",
    "    # if m%10==0:\n",
    "    #     print(f'Completed Batch {m}')\n",
    "    # print(f\"Time elapsed after iteration {m+1}: {time.time()-start_time}\")\n",
    "    # start_time=time.time()\n",
    "end_time=time.time()\n",
    "print(f\"{(end_time-start_time)/60:.4f}minutes\")"
   ]
  },
  {
   "cell_type": "code",
   "execution_count": 6,
   "metadata": {},
   "outputs": [
    {
     "name": "stdout",
     "output_type": "stream",
     "text": [
      "Time taken: 00:27.6384\n"
     ]
    }
   ],
   "source": [
    "import os\n",
    "import win32com.client\n",
    "\n",
    "def convert_docx_to_pdf(docx_file, pdf_file):\n",
    "    # Get the full path of the input and output files\n",
    "    docx_file = os.path.abspath(docx_file)\n",
    "    pdf_file = os.path.abspath(pdf_file)\n",
    "\n",
    "    # Create a new instance of the Word application\n",
    "    word_app = win32com.client.Dispatch(\"Word.Application\")\n",
    "\n",
    "    # Open the docx file\n",
    "    doc = word_app.Documents.Open(docx_file)\n",
    "\n",
    "    # Save as PDF\n",
    "    doc.SaveAs(pdf_file, FileFormat=17)\n",
    "\n",
    "    # Close the document\n",
    "    doc.Close()\n",
    "\n",
    "    # Quit Word application\n",
    "    word_app.Quit()\n",
    "\n",
    "# Example usage\n",
    "if __name__ == \"__main__\":\n",
    "    pdf_file = \"output.pdf\"\n",
    "    start_time=time.time()\n",
    "    for i in ['gstr1_Updated_Vals_0.docx','gstr1_Updated_Vals_1.docx','gstr3b_Updated_Vals_0.docx','gstr3b_Updated_Vals_1.docx']:\n",
    "        convert_docx_to_pdf(i, pdf_file)\n",
    "    end_time=time.time()\n",
    "    time_diff=(end_time-start_time)\n",
    "    minutes, seconds = divmod(time_diff, 60)\n",
    "    print(f\"Time taken: {int(minutes):02d}:{seconds:.4f}\")"
   ]
  },
  {
   "cell_type": "code",
   "execution_count": 7,
   "metadata": {},
   "outputs": [
    {
     "data": {
      "application/vnd.jupyter.widget-view+json": {
       "model_id": "5f5609e5ddc448238f8413016995c126",
       "version_major": 2,
       "version_minor": 0
      },
      "text/plain": [
       "  0%|          | 0/1 [00:00<?, ?it/s]"
      ]
     },
     "metadata": {},
     "output_type": "display_data"
    },
    {
     "data": {
      "application/vnd.jupyter.widget-view+json": {
       "model_id": "e45ec5b7b6f74945870489eb8c8c5217",
       "version_major": 2,
       "version_minor": 0
      },
      "text/plain": [
       "  0%|          | 0/1 [00:00<?, ?it/s]"
      ]
     },
     "metadata": {},
     "output_type": "display_data"
    },
    {
     "data": {
      "application/vnd.jupyter.widget-view+json": {
       "model_id": "bae21e121539410e864e29f95f02d406",
       "version_major": 2,
       "version_minor": 0
      },
      "text/plain": [
       "  0%|          | 0/1 [00:00<?, ?it/s]"
      ]
     },
     "metadata": {},
     "output_type": "display_data"
    },
    {
     "data": {
      "application/vnd.jupyter.widget-view+json": {
       "model_id": "988c6e7616fc44d5bcd46c66170d1be2",
       "version_major": 2,
       "version_minor": 0
      },
      "text/plain": [
       "  0%|          | 0/1 [00:00<?, ?it/s]"
      ]
     },
     "metadata": {},
     "output_type": "display_data"
    },
    {
     "name": "stdout",
     "output_type": "stream",
     "text": [
      "Time taken: 00:26.3335\n"
     ]
    }
   ],
   "source": [
    "pdf_file = \"output.pdf\"\n",
    "start_time=time.time()\n",
    "for i in ['gstr1_Updated_Vals_0.docx','gstr1_Updated_Vals_1.docx','gstr3b_Updated_Vals_0.docx','gstr3b_Updated_Vals_1.docx']:\n",
    "    docx2pdf.convert(i, pdf_file)\n",
    "end_time=time.time()\n",
    "time_diff=(end_time-start_time)\n",
    "minutes, seconds = divmod(time_diff, 60)\n",
    "print(f\"Time taken: {int(minutes):02d}:{seconds:.4f}\")"
   ]
  },
  {
   "cell_type": "code",
   "execution_count": 12,
   "metadata": {},
   "outputs": [
    {
     "name": "stdout",
     "output_type": "stream",
     "text": [
      "Time taken: 00:19.7568\n"
     ]
    }
   ],
   "source": [
    "import comtypes.client\n",
    "import docx\n",
    "\n",
    "pdf_path='output.pdf'\n",
    "start_time=time.time()\n",
    "for i in ['gstr1_Updated_Vals_0.docx','gstr1_Updated_Vals_1.docx','gstr3b_Updated_Vals_0.docx','gstr3b_Updated_Vals_1.docx']:\n",
    "    word_path=i\n",
    "    docx.Document(word_path)\n",
    "    word=comtypes.client.CreateObject('Word.Application')\n",
    "    docx_path = os.path. abspath(word_path)\n",
    "    pdf_path = os.path.abspath(pdf_path)\n",
    "    pdf_format=17\n",
    "    word.Visible=False\n",
    "    in_file=word.Documents.Open(docx_path)\n",
    "    in_file.SaveAs(pdf_path,FileFormat=pdf_format)\n",
    "    in_file.Close()\n",
    "    word.Quit()\n",
    "end_time=time.time()\n",
    "time_diff=(end_time-start_time)\n",
    "minutes, seconds = divmod(time_diff, 60)\n",
    "print(f\"Time taken: {int(minutes):02d}:{seconds:.4f}\")"
   ]
  },
  {
   "cell_type": "code",
   "execution_count": null,
   "metadata": {},
   "outputs": [],
   "source": [
    "# from spire.doc import *\n",
    "# from spire.doc.common import *"
   ]
  },
  {
   "cell_type": "code",
   "execution_count": 14,
   "metadata": {},
   "outputs": [
    {
     "name": "stdout",
     "output_type": "stream",
     "text": [
      "Time taken: 00:4.8774\n"
     ]
    }
   ],
   "source": [
    "from spire.doc import *\n",
    "from spire.doc.common import *\n",
    "        \n",
    "# Create a Document object\n",
    "document = Document()\n",
    "# Load a Word DOCX file\n",
    "start_time=time.time()\n",
    "for i in ['gstr1_Updated_Vals_0.docx','gstr1_Updated_Vals_1.docx','gstr3b_Updated_Vals_0.docx','gstr3b_Updated_Vals_1.docx']:\n",
    "    document.LoadFromFile(i)\n",
    "# Or load a Word DOC file\n",
    "#document.LoadFromFile(\"Sample.doc\")\n",
    "\n",
    "# Save the file to a PDF file\n",
    "    document.SaveToFile(\"output.pdf\", FileFormat.PDF)\n",
    "    document.Close()\n",
    "end_time=time.time()\n",
    "time_diff=(end_time-start_time)\n",
    "minutes, seconds = divmod(time_diff, 60)\n",
    "print(f\"Time taken: {int(minutes):02d}:{seconds:.4f}\")\n"
   ]
  },
  {
   "cell_type": "code",
   "execution_count": 15,
   "metadata": {},
   "outputs": [
    {
     "name": "stdout",
     "output_type": "stream",
     "text": [
      "Collecting spire.doc\n",
      "  Using cached Spire.Doc-12.4.0-py3-none-win_amd64.whl.metadata (14 kB)\n",
      "Collecting plum-dispatch==1.7.4 (from spire.doc)\n",
      "  Using cached plum_dispatch-1.7.4-py3-none-any.whl.metadata (1.8 kB)\n",
      "Using cached Spire.Doc-12.4.0-py3-none-win_amd64.whl (27.1 MB)\n",
      "Using cached plum_dispatch-1.7.4-py3-none-any.whl (24 kB)\n",
      "Installing collected packages: plum-dispatch, spire.doc\n",
      "Successfully installed plum-dispatch-1.7.4 spire.doc-12.4.0\n"
     ]
    }
   ],
   "source": [
    "!pip install spire.doc"
   ]
  },
  {
   "cell_type": "code",
   "execution_count": 20,
   "metadata": {},
   "outputs": [
    {
     "name": "stdout",
     "output_type": "stream",
     "text": [
      "Requirement already satisfied: plum-dispatch==1.7.4 in c:\\users\\aryaman.tomar\\appdata\\local\\programs\\python\\python312\\lib\\site-packages (1.7.4)\n"
     ]
    }
   ],
   "source": [
    "!pip install plum-dispatch==1.7.4"
   ]
  },
  {
   "cell_type": "code",
   "execution_count": 59,
   "metadata": {},
   "outputs": [
    {
     "name": "stdout",
     "output_type": "stream",
     "text": [
      "Collecting comtypes\n",
      "  Downloading comtypes-1.4.2-py3-none-any.whl.metadata (4.1 kB)\n",
      "Downloading comtypes-1.4.2-py3-none-any.whl (201 kB)\n",
      "   ---------------------------------------- 0.0/201.2 kB ? eta -:--:--\n",
      "   -- ------------------------------------- 10.2/201.2 kB ? eta -:--:--\n",
      "   ----- --------------------------------- 30.7/201.2 kB 435.7 kB/s eta 0:00:01\n",
      "   -------------------------------------- - 194.6/201.2 kB 2.0 MB/s eta 0:00:01\n",
      "   -------------------------------------- - 194.6/201.2 kB 2.0 MB/s eta 0:00:01\n",
      "   ---------------------------------------- 201.2/201.2 kB 1.2 MB/s eta 0:00:00\n",
      "Installing collected packages: comtypes\n",
      "Successfully installed comtypes-1.4.2\n"
     ]
    }
   ],
   "source": [
    "!pip install comtypes"
   ]
  },
  {
   "cell_type": "code",
   "execution_count": null,
   "metadata": {},
   "outputs": [],
   "source": []
  }
 ],
 "metadata": {
  "kernelspec": {
   "display_name": "Python 3",
   "language": "python",
   "name": "python3"
  },
  "language_info": {
   "codemirror_mode": {
    "name": "ipython",
    "version": 3
   },
   "file_extension": ".py",
   "mimetype": "text/x-python",
   "name": "python",
   "nbconvert_exporter": "python",
   "pygments_lexer": "ipython3",
   "version": "3.12.1"
  }
 },
 "nbformat": 4,
 "nbformat_minor": 2
}
