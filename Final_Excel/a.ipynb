{
 "cells": [
  {
   "cell_type": "code",
   "execution_count": 1,
   "metadata": {},
   "outputs": [],
   "source": [
    "import os\n",
    "import time\n",
    "import pickle\n",
    "import numpy as np\n",
    "import pandas as pd\n",
    "from docx import Document\n",
    "# from docx import Document as docx\n",
    "from docx.shared import Pt\n",
    "\n",
    "import docx2pdf\n",
    "# from spire.doc import *\n",
    "# from spire.doc.common import *"
   ]
  },
  {
   "cell_type": "code",
   "execution_count": 2,
   "metadata": {},
   "outputs": [],
   "source": [
    "l=pd.concat([pd.read_csv('buyers.csv'),pd.read_csv('supplies.csv')], axis=0, ignore_index=True).to_dict('records')"
   ]
  },
  {
   "cell_type": "code",
   "execution_count": 3,
   "metadata": {},
   "outputs": [],
   "source": [
    "with open('final_gstr3b_params.pkl', 'rb') as f:\n",
    "    x1=pickle.load(f)\n",
    "gstr3b={i[1]:i[3] for i in x1}\n",
    "\n",
    "with open('final_gstr1_params.pkl', 'rb') as f:\n",
    "    x2=pickle.load(f)\n",
    "gstr1={i[1]:i[3] for i in x2}"
   ]
  },
  {
   "cell_type": "code",
   "execution_count": 4,
   "metadata": {},
   "outputs": [],
   "source": [
    "# Randomized Dictionary's d 0th element\n",
    "\n",
    "# k=0\n",
    "# for i in l[0].keys():\n",
    "#     l[0][i]=k\n",
    "#     k=k+1\n",
    "# l[0]"
   ]
  },
  {
   "cell_type": "code",
   "execution_count": 5,
   "metadata": {},
   "outputs": [],
   "source": [
    "# for m in range(2):\n",
    "\n",
    "#     x=l[m]\n",
    "\n",
    "#     d_={}\n",
    "#     for i in x.keys():\n",
    "#         l_=[k for k, val in gstr3b.items() if val==i]\n",
    "#         if len(l_)!=0:\n",
    "#             d_.update(dict(zip(l_,tuple([x[i]])*len(l_))))\n",
    "#     for i in set(gstr3b.keys()).difference(set(d_.keys())):\n",
    "#         d_[i]='?'\n",
    "\n",
    "#     d1_={}\n",
    "#     for i in x.keys():\n",
    "#         l_=[k for k, val in gstr1.items() if val==i]\n",
    "#         if len(l_)!=0:\n",
    "#             d1_.update(dict(zip(l_,tuple([x[i]])*len(l_))))\n",
    "#     for i in set(gstr1.keys()).difference(set(d1_.keys())):\n",
    "#         d1_[i]='?'\n",
    "\n",
    "#     gstr3b_vals=[(k,v)for k,v in d_.items()]\n",
    "#     gstr1_vals=[(k,v)for k,v in d1_.items()]    \n",
    "\n",
    "#     f='gstr3b'\n",
    "#     fname=f'{f}.docx'\n",
    "\n",
    "#     doc=Document(fname)\n",
    "#     all_tables=[]\n",
    "#     for table in doc.tables:\n",
    "#         rows=len(table.rows)\n",
    "#         cols=len(table.columns)\n",
    "#         data=np.empty((rows,cols), dtype=object)\n",
    "#         for i,row in enumerate(table.rows):\n",
    "#             for j,cell in enumerate(row.cells):\n",
    "#                 data[i,j]=cell.text.strip()\n",
    "#         all_tables.append(data)\n",
    "\n",
    "#     for i,j in gstr3b_vals:\n",
    "#         update_document(i[0], i[1], j, i[2])\n",
    "\n",
    "#     doc.save(f\"{f}_Updated_Vals_{m}.docx\")\n",
    "#     docx2pdf.convert(f\"{f}_Updated_Vals_{m}.docx\", f\"{f}_Updated_{m}.pdf\")\n",
    "#     os.remove(f\"{f}_Updated_Vals_{m}.docx\")\n",
    "\n",
    "#     f='gstr1'\n",
    "#     fname=f'{f}.docx'\n",
    "\n",
    "#     doc=Document(fname)\n",
    "#     all_tables=[]\n",
    "#     for table in doc.tables:\n",
    "#         rows=len(table.rows)\n",
    "#         cols=len(table.columns)\n",
    "#         data=np.empty((rows,cols), dtype=object)\n",
    "#         for i,row in enumerate(table.rows):\n",
    "#             for j,cell in enumerate(row.cells):\n",
    "#                 data[i,j]=cell.text.strip()\n",
    "#         all_tables.append(data)\n",
    "\n",
    "#     for i,j in gstr1_vals:\n",
    "#         update_document(i[0], i[1], j, i[2])\n",
    "\n",
    "#     doc.save(f\"{f}_Updated_Vals_{m}.docx\")\n",
    "#     docx2pdf.convert(f\"{f}_Updated_Vals_{m}.docx\", f\"{f}_Updated_{m}.pdf\")\n",
    "#     os.remove(f\"{f}_Updated_Vals_{m}.docx\")"
   ]
  },
  {
   "cell_type": "code",
   "execution_count": 7,
   "metadata": {},
   "outputs": [
    {
     "name": "stderr",
     "output_type": "stream",
     "text": [
      " 13%|█▎        | 58/432 [01:05<07:01,  1.13s/it]\n"
     ]
    },
    {
     "ename": "KeyboardInterrupt",
     "evalue": "",
     "output_type": "error",
     "traceback": [
      "\u001b[1;31m---------------------------------------------------------------------------\u001b[0m",
      "\u001b[1;31mKeyboardInterrupt\u001b[0m                         Traceback (most recent call last)",
      "Cell \u001b[1;32mIn[7], line 46\u001b[0m\n\u001b[0;32m     44\u001b[0m             d[i] \u001b[38;5;241m=\u001b[39m \u001b[38;5;124m'\u001b[39m\u001b[38;5;124m?\u001b[39m\u001b[38;5;124m'\u001b[39m\n\u001b[0;32m     45\u001b[0m     process_document(\u001b[38;5;124m'\u001b[39m\u001b[38;5;124mgstr3b.docx\u001b[39m\u001b[38;5;124m'\u001b[39m, [(k, v) \u001b[38;5;28;01mfor\u001b[39;00m k, v \u001b[38;5;129;01min\u001b[39;00m d_\u001b[38;5;241m.\u001b[39mitems()], \u001b[38;5;124m'\u001b[39m\u001b[38;5;124mgstr3b\u001b[39m\u001b[38;5;124m'\u001b[39m, m)\n\u001b[1;32m---> 46\u001b[0m     \u001b[43mprocess_document\u001b[49m\u001b[43m(\u001b[49m\u001b[38;5;124;43m'\u001b[39;49m\u001b[38;5;124;43mgstr1.docx\u001b[39;49m\u001b[38;5;124;43m'\u001b[39;49m\u001b[43m,\u001b[49m\u001b[43m \u001b[49m\u001b[43m[\u001b[49m\u001b[43m(\u001b[49m\u001b[43mk\u001b[49m\u001b[43m,\u001b[49m\u001b[43m \u001b[49m\u001b[43mv\u001b[49m\u001b[43m)\u001b[49m\u001b[43m \u001b[49m\u001b[38;5;28;43;01mfor\u001b[39;49;00m\u001b[43m \u001b[49m\u001b[43mk\u001b[49m\u001b[43m,\u001b[49m\u001b[43m \u001b[49m\u001b[43mv\u001b[49m\u001b[43m \u001b[49m\u001b[38;5;129;43;01min\u001b[39;49;00m\u001b[43m \u001b[49m\u001b[43md1_\u001b[49m\u001b[38;5;241;43m.\u001b[39;49m\u001b[43mitems\u001b[49m\u001b[43m(\u001b[49m\u001b[43m)\u001b[49m\u001b[43m]\u001b[49m\u001b[43m,\u001b[49m\u001b[43m \u001b[49m\u001b[38;5;124;43m'\u001b[39;49m\u001b[38;5;124;43mgstr1\u001b[39;49m\u001b[38;5;124;43m'\u001b[39;49m\u001b[43m,\u001b[49m\u001b[43m \u001b[49m\u001b[43mm\u001b[49m\u001b[43m)\u001b[49m\n\u001b[0;32m     48\u001b[0m     \u001b[38;5;66;03m# if m%10==0:\u001b[39;00m\n\u001b[0;32m     49\u001b[0m     \u001b[38;5;66;03m#     print(f'Completed Batch {m}')\u001b[39;00m\n\u001b[0;32m     50\u001b[0m     \u001b[38;5;66;03m# print(f\"Time elapsed after iteration {m+1}: {time.time()-start_time}\")\u001b[39;00m\n\u001b[0;32m     51\u001b[0m     \u001b[38;5;66;03m# start_time=time.time()\u001b[39;00m\n\u001b[0;32m     52\u001b[0m end_time\u001b[38;5;241m=\u001b[39mtime\u001b[38;5;241m.\u001b[39mtime()\n",
      "Cell \u001b[1;32mIn[7], line 26\u001b[0m, in \u001b[0;36mprocess_document\u001b[1;34m(fname, vals, f, m)\u001b[0m\n\u001b[0;32m     23\u001b[0m     all_tables\u001b[38;5;241m.\u001b[39mappend(data)\n\u001b[0;32m     25\u001b[0m \u001b[38;5;28;01mfor\u001b[39;00m i, j \u001b[38;5;129;01min\u001b[39;00m vals:\n\u001b[1;32m---> 26\u001b[0m     \u001b[43mupdate_document\u001b[49m\u001b[43m(\u001b[49m\u001b[43mi\u001b[49m\u001b[43m[\u001b[49m\u001b[38;5;241;43m0\u001b[39;49m\u001b[43m]\u001b[49m\u001b[43m,\u001b[49m\u001b[43m \u001b[49m\u001b[43mi\u001b[49m\u001b[43m[\u001b[49m\u001b[38;5;241;43m1\u001b[39;49m\u001b[43m]\u001b[49m\u001b[43m,\u001b[49m\u001b[43m \u001b[49m\u001b[43mj\u001b[49m\u001b[43m,\u001b[49m\u001b[43m \u001b[49m\u001b[43mdoc\u001b[49m\u001b[38;5;241;43m.\u001b[39;49m\u001b[43mtables\u001b[49m\u001b[43m[\u001b[49m\u001b[43mi\u001b[49m\u001b[43m[\u001b[49m\u001b[38;5;241;43m2\u001b[39;49m\u001b[43m]\u001b[49m\u001b[43m]\u001b[49m\u001b[43m)\u001b[49m\n\u001b[0;32m     28\u001b[0m output_docx \u001b[38;5;241m=\u001b[39m \u001b[38;5;124mf\u001b[39m\u001b[38;5;124m\"\u001b[39m\u001b[38;5;132;01m{\u001b[39;00mf\u001b[38;5;132;01m}\u001b[39;00m\u001b[38;5;124m_Updated_Vals_\u001b[39m\u001b[38;5;132;01m{\u001b[39;00mm\u001b[38;5;132;01m}\u001b[39;00m\u001b[38;5;124m.docx\u001b[39m\u001b[38;5;124m\"\u001b[39m\n\u001b[0;32m     29\u001b[0m doc\u001b[38;5;241m.\u001b[39msave(output_docx)\n",
      "Cell \u001b[1;32mIn[7], line 7\u001b[0m, in \u001b[0;36mupdate_document\u001b[1;34m(row, col, new_value, table)\u001b[0m\n\u001b[0;32m      5\u001b[0m     \u001b[38;5;28mprint\u001b[39m(\u001b[38;5;124m\"\u001b[39m\u001b[38;5;124mWarning: The specified cell does not exist in the table.\u001b[39m\u001b[38;5;124m\"\u001b[39m)\n\u001b[0;32m      6\u001b[0m     \u001b[38;5;28;01mreturn\u001b[39;00m    \n\u001b[1;32m----> 7\u001b[0m cell \u001b[38;5;241m=\u001b[39m \u001b[43mtable\u001b[49m\u001b[38;5;241;43m.\u001b[39;49m\u001b[43mrows\u001b[49m\u001b[43m[\u001b[49m\u001b[43mrow\u001b[49m\u001b[43m]\u001b[49m\u001b[38;5;241;43m.\u001b[39;49m\u001b[43mcells\u001b[49m[col]\n\u001b[0;32m      8\u001b[0m cell\u001b[38;5;241m.\u001b[39mtext \u001b[38;5;241m=\u001b[39m \u001b[38;5;28mstr\u001b[39m(new_value)\n\u001b[0;32m      9\u001b[0m \u001b[38;5;28;01mfor\u001b[39;00m paragraph \u001b[38;5;129;01min\u001b[39;00m cell\u001b[38;5;241m.\u001b[39mparagraphs:\n",
      "File \u001b[1;32mc:\\Users\\aryaman.tomar\\AppData\\Local\\Programs\\Python\\Python312\\Lib\\site-packages\\docx\\table.py:368\u001b[0m, in \u001b[0;36m_Row.cells\u001b[1;34m(self)\u001b[0m\n\u001b[0;32m    365\u001b[0m \u001b[38;5;129m@property\u001b[39m\n\u001b[0;32m    366\u001b[0m \u001b[38;5;28;01mdef\u001b[39;00m \u001b[38;5;21mcells\u001b[39m(\u001b[38;5;28mself\u001b[39m) \u001b[38;5;241m-\u001b[39m\u001b[38;5;241m>\u001b[39m Tuple[_Cell]:\n\u001b[0;32m    367\u001b[0m \u001b[38;5;250m    \u001b[39m\u001b[38;5;124;03m\"\"\"Sequence of |_Cell| instances corresponding to cells in this row.\"\"\"\u001b[39;00m\n\u001b[1;32m--> 368\u001b[0m     \u001b[38;5;28;01mreturn\u001b[39;00m \u001b[38;5;28mtuple\u001b[39m(\u001b[38;5;28;43mself\u001b[39;49m\u001b[38;5;241;43m.\u001b[39;49m\u001b[43mtable\u001b[49m\u001b[38;5;241;43m.\u001b[39;49m\u001b[43mrow_cells\u001b[49m\u001b[43m(\u001b[49m\u001b[38;5;28;43mself\u001b[39;49m\u001b[38;5;241;43m.\u001b[39;49m\u001b[43m_index\u001b[49m\u001b[43m)\u001b[49m)\n",
      "File \u001b[1;32mc:\\Users\\aryaman.tomar\\AppData\\Local\\Programs\\Python\\Python312\\Lib\\site-packages\\docx\\table.py:98\u001b[0m, in \u001b[0;36mTable.row_cells\u001b[1;34m(self, row_idx)\u001b[0m\n\u001b[0;32m     96\u001b[0m start \u001b[38;5;241m=\u001b[39m row_idx \u001b[38;5;241m*\u001b[39m column_count\n\u001b[0;32m     97\u001b[0m end \u001b[38;5;241m=\u001b[39m start \u001b[38;5;241m+\u001b[39m column_count\n\u001b[1;32m---> 98\u001b[0m \u001b[38;5;28;01mreturn\u001b[39;00m \u001b[38;5;28;43mself\u001b[39;49m\u001b[38;5;241;43m.\u001b[39;49m\u001b[43m_cells\u001b[49m[start:end]\n",
      "File \u001b[1;32mc:\\Users\\aryaman.tomar\\AppData\\Local\\Programs\\Python\\Python312\\Lib\\site-packages\\docx\\table.py:159\u001b[0m, in \u001b[0;36mTable._cells\u001b[1;34m(self)\u001b[0m\n\u001b[0;32m    157\u001b[0m cells \u001b[38;5;241m=\u001b[39m []\n\u001b[0;32m    158\u001b[0m \u001b[38;5;28;01mfor\u001b[39;00m tc \u001b[38;5;129;01min\u001b[39;00m \u001b[38;5;28mself\u001b[39m\u001b[38;5;241m.\u001b[39m_tbl\u001b[38;5;241m.\u001b[39miter_tcs():\n\u001b[1;32m--> 159\u001b[0m     \u001b[38;5;28;01mfor\u001b[39;00m grid_span_idx \u001b[38;5;129;01min\u001b[39;00m \u001b[38;5;28;43mrange\u001b[39;49m\u001b[43m(\u001b[49m\u001b[43mtc\u001b[49m\u001b[38;5;241;43m.\u001b[39;49m\u001b[43mgrid_span\u001b[49m\u001b[43m)\u001b[49m:\n\u001b[0;32m    160\u001b[0m         \u001b[38;5;28;01mif\u001b[39;00m tc\u001b[38;5;241m.\u001b[39mvMerge \u001b[38;5;241m==\u001b[39m ST_Merge\u001b[38;5;241m.\u001b[39mCONTINUE:\n\u001b[0;32m    161\u001b[0m             cells\u001b[38;5;241m.\u001b[39mappend(cells[\u001b[38;5;241m-\u001b[39mcol_count])\n",
      "\u001b[1;31mKeyboardInterrupt\u001b[0m: "
     ]
    }
   ],
   "source": [
    "import tqdm as tqdm\n",
    "\n",
    "def update_document(row, col, new_value, table):\n",
    "    if row >= len(table.rows) or col >= len(table.columns):\n",
    "        print(\"Warning: The specified cell does not exist in the table.\")\n",
    "        return    \n",
    "    cell = table.rows[row].cells[col]\n",
    "    cell.text = str(new_value)\n",
    "    for paragraph in cell.paragraphs:\n",
    "        for run in paragraph.runs:\n",
    "            run.font.name, run.font.size = 'Roboto', Pt(7.5)\n",
    "\n",
    "def process_document(fname, vals, f, m):\n",
    "    doc = Document(fname)\n",
    "    all_tables = []\n",
    "    for table in doc.tables:\n",
    "        rows = len(table.rows)\n",
    "        cols = len(table.columns)\n",
    "        data = np.empty((rows, cols), dtype=object)\n",
    "        for i, row in enumerate(table.rows):\n",
    "            for j, cell in enumerate(row.cells):\n",
    "                data[i, j] = cell.text.strip()\n",
    "        all_tables.append(data)\n",
    "\n",
    "    for i, j in vals:\n",
    "        update_document(i[0], i[1], j, doc.tables[i[2]])\n",
    "\n",
    "    output_docx = f\"{f}_Updated_Vals_{m}.docx\"\n",
    "    doc.save(output_docx)\n",
    "    # docx2pdf.convert(output_docx, f\"{f}_Updated_{m}.pdf\")\n",
    "    os.remove(output_docx)\n",
    "\n",
    "start_time=time.time()\n",
    "for m in tqdm.tqdm(range(len(l))):\n",
    "    x=l[m]\n",
    "    d_={}\n",
    "    d1_={}\n",
    "    for gstr, d in [(gstr3b, d_), (gstr1, d1_)]:\n",
    "        for i in x.keys():\n",
    "            l_ = [k for k, val in gstr.items() if val == i]\n",
    "            if len(l_) != 0:\n",
    "                d.update(dict(zip(l_, tuple([x[i]]) * len(l_))))\n",
    "        for i in set(gstr.keys()).difference(set(d.keys())):\n",
    "            d[i] = '?'\n",
    "    process_document('gstr3b.docx', [(k, v) for k, v in d_.items()], 'gstr3b', m)\n",
    "    process_document('gstr1.docx', [(k, v) for k, v in d1_.items()], 'gstr1', m)\n",
    "    \n",
    "    # if m%10==0:\n",
    "    #     print(f'Completed Batch {m}')\n",
    "    # print(f\"Time elapsed after iteration {m+1}: {time.time()-start_time}\")\n",
    "    # start_time=time.time()\n",
    "end_time=time.time()\n",
    "print(f\"{(end_time-start_time)/60:.4f}minutes\")"
   ]
  },
  {
   "cell_type": "code",
   "execution_count": null,
   "metadata": {},
   "outputs": [],
   "source": []
  },
  {
   "cell_type": "code",
   "execution_count": null,
   "metadata": {},
   "outputs": [],
   "source": []
  }
 ],
 "metadata": {
  "kernelspec": {
   "display_name": "Python 3",
   "language": "python",
   "name": "python3"
  },
  "language_info": {
   "codemirror_mode": {
    "name": "ipython",
    "version": 3
   },
   "file_extension": ".py",
   "mimetype": "text/x-python",
   "name": "python",
   "nbconvert_exporter": "python",
   "pygments_lexer": "ipython3",
   "version": "3.12.1"
  }
 },
 "nbformat": 4,
 "nbformat_minor": 2
}
