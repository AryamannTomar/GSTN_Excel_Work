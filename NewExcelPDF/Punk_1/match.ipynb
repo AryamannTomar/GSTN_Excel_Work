{
 "cells": [
  {
   "cell_type": "code",
   "execution_count": 61,
   "metadata": {},
   "outputs": [],
   "source": [
    "import pickle\n",
    "import pandas as pd"
   ]
  },
  {
   "cell_type": "code",
   "execution_count": 62,
   "metadata": {},
   "outputs": [],
   "source": [
    "df=pd.read_csv('../../supplies.csv')\n",
    "l=df.head(1).to_dict('records')\n",
    "k1=list(l[0].keys())\n",
    "\n",
    "df1=pd.read_csv('../../buyers.csv')\n",
    "l1=df1.head(1).to_dict('records')\n",
    "k2=list(l1[0].keys())\n",
    "\n",
    "# with open('gstr3b_params.pkl', 'rb') as f:\n",
    "#     k=pickle.load(f)\n",
    "\n",
    "# with open('gstr1_params.pkl', 'rb') as f:\n",
    "#     k_=pickle.load(f)"
   ]
  },
  {
   "cell_type": "code",
   "execution_count": 63,
   "metadata": {},
   "outputs": [],
   "source": [
    "kf = lambda x,n: k[x:x+n]\n",
    "kf_= lambda x,n: k_[x:x+n]\n",
    "k1f= lambda x,n: [k1[x:x+n][-1],*k1[x:x+n][:-1]]\n",
    "k2f= lambda x,n: k2[x:x+n]"
   ]
  },
  {
   "cell_type": "code",
   "execution_count": 64,
   "metadata": {},
   "outputs": [],
   "source": [
    "with open('gstr3b_params.pkl', 'rb') as f:\n",
    "    k=pickle.load(f)\n",
    "\n",
    "with open('gstr3b_params_matches.pkl', 'rb') as f1:\n",
    "    d=pickle.load(f1)"
   ]
  },
  {
   "cell_type": "code",
   "execution_count": 65,
   "metadata": {},
   "outputs": [],
   "source": [
    "with open('gstr1_params.pkl', 'rb') as f:\n",
    "    k_=pickle.load(f)\n",
    "\n",
    "with open('gstr1_params_matches.pkl', 'rb') as f1:\n",
    "    d1=pickle.load(f1)"
   ]
  },
  {
   "cell_type": "code",
   "execution_count": 66,
   "metadata": {},
   "outputs": [],
   "source": [
    "# x=0\n",
    "# x1=[]\n",
    "# for i in k:\n",
    "#     if i[2] in d.keys():\n",
    "#         x+=1\n",
    "#         x1.append(tuple((i[0],i[1],i[2],d[i[2]])))\n",
    "# x==len(k)"
   ]
  },
  {
   "cell_type": "code",
   "execution_count": null,
   "metadata": {},
   "outputs": [],
   "source": []
  },
  {
   "cell_type": "code",
   "execution_count": 67,
   "metadata": {},
   "outputs": [
    {
     "name": "stdout",
     "output_type": "stream",
     "text": [
      "supplies present 27xTimes in gst3b 114xTimes in gstr1 : 141/186\n",
      "buyers present 43xTimes in gst3b 0xTimes in gstr1 : 43/186\n"
     ]
    }
   ],
   "source": [
    "t1=0\n",
    "t2=0\n",
    "for i in k1:\n",
    "    if i in d.values():\n",
    "        t1+=1\n",
    "    elif i in d1.values():\n",
    "        t2+=1\n",
    "print(f'supplies present {t1}xTimes in gst3b {t2}xTimes in gstr1 : {t1+t2}/{len(k1)}')\n",
    "\n",
    "t1=0\n",
    "t2=0\n",
    "for j in k2:\n",
    "    if j in d.values():\n",
    "        t1+=1\n",
    "    elif j in d1.values():\n",
    "        t2+=1\n",
    "print(f'buyers present {t1}xTimes in gst3b {t2}xTimes in gstr1 : {t1+t2}/{len(k1)}')"
   ]
  },
  {
   "cell_type": "code",
   "execution_count": 68,
   "metadata": {},
   "outputs": [
    {
     "data": {
      "text/plain": [
       "True"
      ]
     },
     "execution_count": 68,
     "metadata": {},
     "output_type": "execute_result"
    }
   ],
   "source": [
    "# Check GSTR3b\n",
    "\n",
    "x=0\n",
    "x1=[]\n",
    "for i in k:\n",
    "    if i[2] in d.keys():\n",
    "        x+=1\n",
    "        x1.append(tuple((i[0],i[1],i[2],d[i[2]])))\n",
    "    else:\n",
    "        print(\"! ERROR !\")\n",
    "        print(tuple((i[0],i[1],i[2],'NO')))\n",
    "        x1.append(tuple((i[0],i[1],i[2],'NO')))\n",
    "x==len(k)"
   ]
  },
  {
   "cell_type": "code",
   "execution_count": 69,
   "metadata": {},
   "outputs": [
    {
     "data": {
      "text/plain": [
       "True"
      ]
     },
     "execution_count": 69,
     "metadata": {},
     "output_type": "execute_result"
    }
   ],
   "source": [
    "# Check GSTR1\n",
    "\n",
    "x=0\n",
    "x2=[]\n",
    "for i in k_:\n",
    "    if i[2] in d1.keys():\n",
    "        x+=1\n",
    "        x2.append(tuple((i[0],i[1],i[2],d1[i[2]])))\n",
    "    else:\n",
    "        print(\"! ERROR !\")\n",
    "        print(tuple((i[0],i[1],i[2],'NO')))\n",
    "        x2.append(tuple((i[0],i[1],i[2],'NO')))\n",
    "x==len(k_)"
   ]
  },
  {
   "cell_type": "code",
   "execution_count": 70,
   "metadata": {},
   "outputs": [],
   "source": [
    "with open('final_gstr3b_params.pkl', 'wb') as f:\n",
    "    pickle.dump(x1,f)\n",
    "\n",
    "with open('final_gstr1_params.pkl', 'wb') as f:\n",
    "    pickle.dump(x2,f)"
   ]
  },
  {
   "cell_type": "code",
   "execution_count": null,
   "metadata": {},
   "outputs": [],
   "source": []
  },
  {
   "cell_type": "code",
   "execution_count": null,
   "metadata": {},
   "outputs": [],
   "source": []
  },
  {
   "cell_type": "markdown",
   "metadata": {},
   "source": [
    "# GSTR 3B"
   ]
  },
  {
   "cell_type": "code",
   "execution_count": 71,
   "metadata": {},
   "outputs": [],
   "source": [
    "# m = lambda x,y: dict(zip(x,y))\n",
    "# d=m(kf(0,2),(k1[20],k1[6]))\n",
    "# d.update(m(kf(2,2),(k1[7],k1[7])))\n",
    "# d.update(m(kf(4,2),tuple('?')*2))\n",
    "# d[k[6]]=k1[151]\n",
    "# d.update(m(kf(7,4),tuple('?')*4))\n",
    "# d.update(m(kf(11,3),k1[152:155]))\n",
    "# d[k[14]]='?'\n",
    "# d.update(m(kf(15,5),k1[155:160]))\n",
    "# d[k[20]]=k1[160]\n",
    "# d.update(m(kf(21,5),tuple('?')*5))\n",
    "# d.update(m(kf(26,6),['NOT IMPACTFUL' for i in range(6)]))\n",
    "# d.update(m(kf(33,4),k2[21:25]))\n",
    "# d.update(m(kf(37,4),k2[25:29]))\n",
    "# d.update(m(kf(41,4),k2[29:33]))\n",
    "# d.update(m(kf(45,4),k2[33:37]))\n",
    "# d.update(m(kf(49,4),k2[37:41]))\n",
    "# d.update(m(kf(53,4),k2[41:45]))\n",
    "# d.update(m(kf(57,4),k2[45:49]))\n",
    "# d.update(m(kf(61,4),k2[49:53]))\n",
    "# d.update(m(kf(65,4),k2[53:57]))\n",
    "# d.update(m(kf(69,4),k2[57:61]))\n",
    "# d.update(m(kf(73,4),['NOT IMPACTFUL' for i in range(4)]))\n",
    "# d.update(m([k[i] for i in [83,89,95,101]],k1[161:165]))\n",
    "# d.update(m([k[i] for i in [84,85,86,90,91,96,97,102]],k1[166:170]))\n",
    "# d.update(m([k[i] for i in [87,92,98,103]],k1[172:176]))\n",
    "# d.update(m([k[i] for i in [105,107,109,111]],k1[176:180]))\n",
    "# d.update(m([k[i] for i in [106,108,110,112]],k1[181:-1]))\n",
    "# d.update(m(k[113:],['NOT IMPACTFUL' for i in range(4)]))\n",
    "\n",
    "# l={}\n",
    "# for i,j in d.items():\n",
    "#    l.update({i[i.find('|')+2:]:j}) "
   ]
  },
  {
   "cell_type": "markdown",
   "metadata": {},
   "source": [
    "# GSTR 1"
   ]
  },
  {
   "cell_type": "code",
   "execution_count": 72,
   "metadata": {},
   "outputs": [],
   "source": [
    "# d={}\n",
    "# m = lambda x,y: dict(zip(x,y))\n",
    "# d.update(m(kf_(0,2),(k1[20],k1[20])))\n",
    "# d.update(m(kf_(3,2),(k1[7],k1[7])))\n",
    "# d[k_[2]]=k1[6]\n",
    "# d.update(m(kf_(5,2),tuple('?')*2))\n",
    "# d.update(m(kf_(7,5), k1f(21,5)))\n",
    "# d.update(m(kf_(12,5), k1f(26,5)))\n",
    "# d.update(m(kf_(17,3), k1f(31,3)))\n",
    "# d.update(m(kf_(20,3), k1f(34,3)))\n",
    "# d.update(m(kf_(23,3), k1f(37,3)))\n",
    "# d.update(m(kf_(26,3),k1f(40,3)))\n",
    "# d.update(m(kf_(29,3), k1f(43,3)))\n",
    "# d.update(m(kf_(32,3), k1f(46,3)))\n",
    "# d.update(m(kf_(35,5), k1f(49,5)))\n",
    "# d.update(m(kf_(40,3), [k1[i] for i in [55,54,56]]))\n",
    "# d.update(m(kf_(43,5), k1f(57,5)))\n",
    "# d.update(m(kf_(48,5), k1f(136,5)))\n",
    "# d.update(m(kf_(53,3), k1f(62,3)))\n",
    "# d.update(m(kf_(56,3), k1f(68,3)))\n",
    "# d.update(m(kf_(59,3), k1f(65,3)))\n",
    "# d.update(m(kf_(62,3), k1f(74,3)))\n",
    "# d.update(m(kf_(65,3), k1f(71,3)))\n",
    "# d.update(m(kf_(68,3), k1f(77,3)))\n",
    "# d.update(m(kf_(71,5), k1f(80,5))) \n",
    "# d.update(m(kf_(76,5), k1f(141,5))) \n",
    "# d.update(m(kf_(81,3), k1f(97,3))) \n",
    "# d.update(m(kf_(84,3), k1f(94,3))) \n",
    "# d.update(m(kf_(87,3), k1f(100,3))) \n",
    "# d.update(m(kf_(90,3), k1f(85,3)))\n",
    "# d.update(m(kf_(93,3), k1f(88,3))) \n",
    "# d.update(m(kf_(96,3), k1f(91,3))) \n",
    "# d.update(m(kf_(99,5), k1f(103,5))) \n",
    "# d.update(m(kf_(104,5), k1f(146,5))) \n",
    "# d.update(m(kf_(109,3), k1f(117,3))) \n",
    "# d.update(m(kf_(112,3), k1f(120,3)))\n",
    "# d.update(m(kf_(115,3), k1f(123,3)))\n",
    "# d.update(m(kf_(118,3), k1f(108,3)))\n",
    "# d.update(m(kf_(121,3), k1f(111,3)))\n",
    "# d.update(m(kf_(124,3), k1f(114,3)))\n",
    "# d.update(m(kf_(127,5), k1f(126,5)))\n",
    "# d.update(m(kf_(132,5), k1f(131,5)))"
   ]
  },
  {
   "cell_type": "code",
   "execution_count": null,
   "metadata": {},
   "outputs": [],
   "source": []
  }
 ],
 "metadata": {
  "kernelspec": {
   "display_name": "Python 3",
   "language": "python",
   "name": "python3"
  },
  "language_info": {
   "codemirror_mode": {
    "name": "ipython",
    "version": 3
   },
   "file_extension": ".py",
   "mimetype": "text/x-python",
   "name": "python",
   "nbconvert_exporter": "python",
   "pygments_lexer": "ipython3",
   "version": "3.12.1"
  }
 },
 "nbformat": 4,
 "nbformat_minor": 2
}
